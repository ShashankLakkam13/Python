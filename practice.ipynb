{
 "cells": [
  {
   "cell_type": "markdown",
   "id": "933529fc-744e-45dd-a2de-7a09b4e23120",
   "metadata": {},
   "source": [
    "$method-1$"
   ]
  },
  {
   "cell_type": "code",
   "execution_count": 3,
   "id": "ef5db6cc-0648-4d1b-98b7-d893e784a154",
   "metadata": {},
   "outputs": [
    {
     "name": "stdout",
     "output_type": "stream",
     "text": [
      "the addition of 100 and 200 is 300\n",
      "the addition of 100 and 200 is 300\n"
     ]
    }
   ],
   "source": [
    "num1=100\n",
    "num2=200\n",
    "ans=num1+num2\n",
    "print(\"the addition of {} and {} is {}\".format(num1,num2,ans))\n",
    "print(f\"the addition of {num1} and {num2} is {ans}\")"
   ]
  },
  {
   "cell_type": "markdown",
   "id": "153dd088-ec0c-4b77-85b2-31d4aa774d07",
   "metadata": {},
   "source": [
    "$Method-2$"
   ]
  },
  {
   "cell_type": "code",
   "execution_count": 4,
   "id": "14b373af-aa8c-47f3-92dc-91bd0075e83f",
   "metadata": {},
   "outputs": [
    {
     "name": "stdin",
     "output_type": "stream",
     "text": [
      "enter the number1 4\n",
      "enter the number 2 5\n"
     ]
    },
    {
     "name": "stdout",
     "output_type": "stream",
     "text": [
      "the addition of 4 and 5 is 9\n",
      "the addition of 4 and 5 is 9\n"
     ]
    }
   ],
   "source": [
    "num1=eval(input(\"enter the number1\"))\n",
    "num2=eval(input(\"enter the number 2\"))\n",
    "add=num1+num2\n",
    "print(\"the addition of {} and {} is {}\".format(num1,num2,add))\n",
    "print(f\"the addition of {num1} and {num2} is {num1+num2}\")\n",
    "          "
   ]
  },
  {
   "cell_type": "code",
   "execution_count": 7,
   "id": "19aa2164-009d-420c-9de4-fe18d992402d",
   "metadata": {},
   "outputs": [
    {
     "name": "stdin",
     "output_type": "stream",
     "text": [
      "enter the number1 4.6\n",
      "enter the number 2 6.5\n"
     ]
    },
    {
     "name": "stdout",
     "output_type": "stream",
     "text": [
      "the addition of 4.6 and 6.5 is 11.1\n",
      "the addition of 4.6 and 6.5 is 11.1\n"
     ]
    }
   ],
   "source": [
    "num1=input(\"enter the number1\")\n",
    "num2=input(\"enter the number 2\")\n",
    "add=eval(num1)+eval(num2)\n",
    "print(\"the addition of {} and {} is {}\".format(num1,num2,add))\n",
    "print(f\"the addition of {num1} and {num2} is {add}\")"
   ]
  },
  {
   "cell_type": "markdown",
   "id": "8e1f3c04-6c15-4923-8939-4757b1ef43b4",
   "metadata": {},
   "source": [
    "$method-3$"
   ]
  },
  {
   "cell_type": "code",
   "execution_count": 9,
   "id": "337881d2-12e8-4bde-8623-d65c1779906f",
   "metadata": {},
   "outputs": [],
   "source": [
    "import random"
   ]
  },
  {
   "cell_type": "code",
   "execution_count": 10,
   "id": "61d4be51-75d4-4af1-a8ee-4cdd21a5ada9",
   "metadata": {},
   "outputs": [
    {
     "data": {
      "text/plain": [
       "['BPF',\n",
       " 'LOG4',\n",
       " 'NV_MAGICCONST',\n",
       " 'RECIP_BPF',\n",
       " 'Random',\n",
       " 'SG_MAGICCONST',\n",
       " 'SystemRandom',\n",
       " 'TWOPI',\n",
       " '_ONE',\n",
       " '_Sequence',\n",
       " '_Set',\n",
       " '__all__',\n",
       " '__builtins__',\n",
       " '__cached__',\n",
       " '__doc__',\n",
       " '__file__',\n",
       " '__loader__',\n",
       " '__name__',\n",
       " '__package__',\n",
       " '__spec__',\n",
       " '_accumulate',\n",
       " '_acos',\n",
       " '_bisect',\n",
       " '_ceil',\n",
       " '_cos',\n",
       " '_e',\n",
       " '_exp',\n",
       " '_floor',\n",
       " '_index',\n",
       " '_inst',\n",
       " '_isfinite',\n",
       " '_log',\n",
       " '_os',\n",
       " '_pi',\n",
       " '_random',\n",
       " '_repeat',\n",
       " '_sha512',\n",
       " '_sin',\n",
       " '_sqrt',\n",
       " '_test',\n",
       " '_test_generator',\n",
       " '_urandom',\n",
       " '_warn',\n",
       " 'betavariate',\n",
       " 'choice',\n",
       " 'choices',\n",
       " 'expovariate',\n",
       " 'gammavariate',\n",
       " 'gauss',\n",
       " 'getrandbits',\n",
       " 'getstate',\n",
       " 'lognormvariate',\n",
       " 'normalvariate',\n",
       " 'paretovariate',\n",
       " 'randbytes',\n",
       " 'randint',\n",
       " 'random',\n",
       " 'randrange',\n",
       " 'sample',\n",
       " 'seed',\n",
       " 'setstate',\n",
       " 'shuffle',\n",
       " 'triangular',\n",
       " 'uniform',\n",
       " 'vonmisesvariate',\n",
       " 'weibullvariate']"
      ]
     },
     "execution_count": 10,
     "metadata": {},
     "output_type": "execute_result"
    }
   ],
   "source": [
    "dir(random)"
   ]
  },
  {
   "cell_type": "code",
   "execution_count": 12,
   "id": "cac5b477-f2a0-431e-beee-920236774881",
   "metadata": {},
   "outputs": [
    {
     "name": "stdout",
     "output_type": "stream",
     "text": [
      "the addition of 21 and 57 is 78\n",
      "the addition of 21 and 57 is 78\n"
     ]
    }
   ],
   "source": [
    "ran1=random.randint(10,100)\n",
    "ran2=random.randint(10,100)\n",
    "add=ran1+ran2\n",
    "print(\"the addition of {} and {} is {}\".format(ran1,ran2,add))\n",
    "print(f\"the addition of {ran1} and {ran2} is {add}\")"
   ]
  },
  {
   "cell_type": "code",
   "execution_count": 15,
   "id": "889da690-cae6-4c8e-92a5-9606b4497609",
   "metadata": {},
   "outputs": [
    {
     "name": "stdout",
     "output_type": "stream",
     "text": [
      "the average of 100 200 and 300 is 200.0\n",
      "the average of 100 200 and 300is 200.0\n"
     ]
    },
    {
     "name": "stdin",
     "output_type": "stream",
     "text": [
      "enter the number1 3\n",
      "enter the number 2 4\n",
      "enter the number 3 5\n"
     ]
    },
    {
     "name": "stdout",
     "output_type": "stream",
     "text": [
      "the average of 3 4 and 5 is 200.0\n",
      "the average of 3 4 and 5is 200.0\n",
      "the average of 16 13 and  98 is 42.333333333333336\n",
      "the average of 16 13 and 98 is 42.333333333333336\n"
     ]
    }
   ],
   "source": [
    "num1=100\n",
    "num2=200\n",
    "num3=300\n",
    "avg=(num1+num2+num3)/3\n",
    "print(\"the average of {} {} and {} is {}\".format(num1,num2,num3,avg))\n",
    "print(f\"the average of {num1} {num2} and {num3}is {avg}\")\n",
    "\n",
    "\n",
    "a=eval(input(\"enter the number1\"))\n",
    "b=eval(input(\"enter the number 2\"))\n",
    "c=eval(input(\"enter the number 3\"))\n",
    "avg=(num1+num2+num3)/3\n",
    "print(\"the average of {} {} and {} is {}\".format(a,b,c,avg))\n",
    "print(f\"the average of {a} {b} and {c}is {avg}\")\n",
    "\n",
    "\n",
    "ran1=random.randint(10,100)\n",
    "ran2=random.randint(10,100)\n",
    "ran3=random.randint(10,100)\n",
    "add=(ran1+ran2+ran3)/3\n",
    "print(\"the average of {} {} and  {} is {}\".format(ran1,ran2,ran3,add))\n",
    "print(f\"the average of {ran1} {ran2} and {ran3} is {add}\")"
   ]
  },
  {
   "cell_type": "code",
   "execution_count": 16,
   "id": "c8de4741-6526-4d2e-9151-c78a88ecf1e4",
   "metadata": {},
   "outputs": [
    {
     "name": "stdin",
     "output_type": "stream",
     "text": [
      "enter the bill 1000\n",
      "enter the tip 100\n"
     ]
    },
    {
     "name": "stdout",
     "output_type": "stream",
     "text": [
      "the 1000 and 100 total is 1100\n",
      "the bill is 1000 and tip is 100 total is 1100\n"
     ]
    }
   ],
   "source": [
    "bill=eval(input(\"enter the bill\"))\n",
    "tip=eval(input(\"enter the tip\"))\n",
    "total=bill+tip\n",
    "print(\"the {} and {} total is {}\".format(bill,tip,total))\n",
    "print(f\"the bill is {bill} and tip is {tip} total is {total}\")\n",
    "       "
   ]
  },
  {
   "cell_type": "code",
   "execution_count": 21,
   "id": "7887052f-bcc6-46ce-9b83-e8a843e15147",
   "metadata": {},
   "outputs": [
    {
     "name": "stdin",
     "output_type": "stream",
     "text": [
      "enter the bill 1000\n"
     ]
    },
    {
     "name": "stdout",
     "output_type": "stream",
     "text": [
      "the tip is 100.0\n",
      "the 1000 and 100.0 total is 1100.0\n",
      "the bill is 1000 and tip is 100.0 total is 1100.0\n"
     ]
    }
   ],
   "source": [
    "bill=eval(input(\"enter the bill\"))\n",
    "tip=bill*(10/100)\n",
    "print(f\"the tip is {tip}\")\n",
    "total=bill+tip\n",
    "print(\"the {} and {} total is {}\".format(bill,tip,total))\n",
    "print(f\"the bill is {bill} and tip is {tip} total is {total}\")"
   ]
  },
  {
   "cell_type": "code",
   "execution_count": 24,
   "id": "73799e6f-96b8-421f-8b79-99e27b1d3c5c",
   "metadata": {},
   "outputs": [
    {
     "name": "stdin",
     "output_type": "stream",
     "text": [
      "Daughter hey mum\n",
      "Mom hello beta\n",
      "Daughter ts govt implemented free bus service\n",
      "Mom wow super news\n",
      "Daughter go to grndmas house\n",
      "conductor show id card\n",
      "Mom dont have id card\n",
      "conductor take ticket\n",
      "Mom yes\n",
      "conductor where to go\n",
      "Mom hyd\n",
      "the number of km fro mom 300\n",
      "mom price\n",
      "enter the privr for each km 3\n",
      "price by conductor 4\n"
     ]
    }
   ],
   "source": [
    "input(\"Daughter\")\n",
    "input(\"Mom\")\n",
    "input(\"Daughter\")\n",
    "input(\"Mom\")\n",
    "input(\"Daughter\")\n",
    "input(\"conductor\")\n",
    "input(\"Mom\")\n",
    "input(\"conductor\")\n",
    "input(\"Mom\")\n",
    "input(\"conductor\")\n",
    "input(\"Mom\")\n",
    "km=eval(input(\"the number of km fro mom\"))\n",
    "input(\"mom\")\n",
    "charge=input(\"enter the privr for each km\")\n",
    "cost=eval(input(\"price by conductor\"))\n",
    "totalcharge=cost* charge\n",
    "print(totalcharge)"
   ]
  },
  {
   "cell_type": "code",
   "execution_count": null,
   "id": "79300135-c497-4d9b-ac01-c824d8e90268",
   "metadata": {},
   "outputs": [],
   "source": []
  }
 ],
 "metadata": {
  "kernelspec": {
   "display_name": "Python 3 (ipykernel)",
   "language": "python",
   "name": "python3"
  },
  "language_info": {
   "codemirror_mode": {
    "name": "ipython",
    "version": 3
   },
   "file_extension": ".py",
   "mimetype": "text/x-python",
   "name": "python",
   "nbconvert_exporter": "python",
   "pygments_lexer": "ipython3",
   "version": "3.11.7"
  }
 },
 "nbformat": 4,
 "nbformat_minor": 5
}
