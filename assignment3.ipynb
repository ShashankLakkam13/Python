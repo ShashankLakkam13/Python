{
 "cells": [
  {
   "cell_type": "markdown",
   "id": "9beae636-add8-4288-9a1b-40f2ae14f33f",
   "metadata": {},
   "source": [
    "1. Ramesh’s basic salary is input through the keyboard. His dearness allowance is 40% of basic salary, and\n",
    "house rent allowance is 20% of basic salary. Write a program to calculate his gross salary.\n",
    "2. The distance between two cities (in km.) is input through the keyboard. Write a program to convert and\n",
    "print this distance in meters, feet, inches and centimeters.\n",
    "3. If the marks obtained by a student in five different subjects are input through the keyboard, find out the\n",
    "aggregate marks and percentage marks obtained by the student. Assume that the maximum marks that\n",
    "can be obtained by a student in each subject is 100.\n",
    "4. Temperature of a city in Fahrenheit degrees is input through the keyboard. Write a program to convert this\n",
    "temperature into Centigrade degrees.\n",
    "5. The length &amp; breadth of a rectangle and radius of a circle are input through the keyboard. Write a program\n",
    "to calculate the area &amp; perimeter of the rectangle, and the area &amp; circumference of the circle.\n",
    "6. Two numbers are input through the keyboard into two locations C and D. Write a program to interchange\n",
    "the contents of C and D.\n",
    "7. If a five-digit number is input through the keyboard, write a program to reverse the number.\n",
    "8. If a four-digit number is input through the keyboard, write a program to obtain the sum of the first and last\n",
    "digit of this number.\n",
    "9. In a town, the percentage of men is 52. The percentage of total literacy is 48. If total percentage of literate\n",
    "men is 35 of the total population, write a program to find the total number of illiterate men and women if\n",
    "the population of the town is 80,000.\n",
    "10. A cashier has currency notes of denominations 10, 50 and 100. If the amount to be withdrawn is input\n",
    "through the keyboard in hundreds, find the total number of currency notes of each denomination the\n",
    "cashier will have to give to the withdrawer."
   ]
  },
  {
   "cell_type": "code",
   "execution_count": 3,
   "id": "a6534be2-60a9-4240-843e-01016c98b7cb",
   "metadata": {},
   "outputs": [],
   "source": [
    "#Ramesh’s basic salary is input through the keyboard. His dearness allowance is 40% of basic salary, and house rent allowance is 20% of basic salary. Write a program to calculate his gross salary.\n",
    "def grosssalary():\n",
    "    try:\n",
    "        basicsalary=eval(input(\"enter Rameshs basic salary:\"))\n",
    "        dearnessAllowance=(40/100)*basicsalary\n",
    "        print(f\"the dearnessallowance is:{dearnessAllowance}\")\n",
    "        rentallowance=(20/100)*basicsalary\n",
    "        print(f\"the rental allowance is {rentallowance}\")\n",
    "        grosssalary=basicsalary+dearnessAllowance+rentallowance;\n",
    "        print(f\"The grosssalary of ramesh is:{grosssalary}\")\n",
    "    except Exception as e:\n",
    "        print(e)\n",
    "    "
   ]
  },
  {
   "cell_type": "code",
   "execution_count": 4,
   "id": "d1a57b1e-2e3f-432d-bcd1-baae987fa6c8",
   "metadata": {},
   "outputs": [
    {
     "name": "stdin",
     "output_type": "stream",
     "text": [
      "enter Rameshs basic salary: 20000\n"
     ]
    },
    {
     "name": "stdout",
     "output_type": "stream",
     "text": [
      "the dearnessallowance is:8000.0\n",
      "the rental allowance is 4000.0\n",
      "The grosssalary of ramesh is:32000.0\n"
     ]
    }
   ],
   "source": [
    "grosssalary()"
   ]
  },
  {
   "cell_type": "code",
   "execution_count": 5,
   "id": "a9bbc53a-0687-4f03-9af4-45c5d500c42b",
   "metadata": {},
   "outputs": [],
   "source": [
    "# 2 The distance between two cities (in km.) is input through the keyboard. Write a program to convert and print this distance in meters, feet, inches and centimeters.\n",
    "def distances():\n",
    "    try:\n",
    "        distanceinkms=eval(input(\"enter the distance in kilometers:\"))\n",
    "        distanceinmeters=1000*distanceinkms\n",
    "        print(f\"The distance in meters is: {distanceinmeters}\")\n",
    "        distnaceinfeet=distanceinmeters*3.28\n",
    "        print(f\"The distance in feet is:{distnaceinfeet}\")\n",
    "        distanceininches=distnaceinfeet*12\n",
    "        print(f\"Distance in inches is{distanceininches}\")\n",
    "        distanceincm=distanceinmeters*100\n",
    "        print(f\"The distance in centimeters is:{distanceincm} \")\n",
    "    except exception as e:\n",
    "        print(e)\n",
    "        "
   ]
  },
  {
   "cell_type": "code",
   "execution_count": 6,
   "id": "81df056a-12c1-4b03-b9e2-b95d7464eb35",
   "metadata": {},
   "outputs": [
    {
     "name": "stdin",
     "output_type": "stream",
     "text": [
      "enter the distance in kilometers: 2\n"
     ]
    },
    {
     "name": "stdout",
     "output_type": "stream",
     "text": [
      "The distance in meters is: 2000\n",
      "The distance in feet is:6560.0\n",
      "Distance in inches is78720.0\n",
      "The distance in centimeters is:200000 \n"
     ]
    }
   ],
   "source": [
    "distances()"
   ]
  },
  {
   "cell_type": "code",
   "execution_count": 9,
   "id": "e9a5becf-1f62-4e61-a2d1-147eac6c9486",
   "metadata": {},
   "outputs": [],
   "source": [
    "# 3)If the marks obtained by a student in five different subjects are input through the keyboard,\n",
    "#find out the aggregate marks and percentage marks obtained by the student.\n",
    "#Assume that the maximum marks that can be obtained by a student in each subject is 100.\n",
    "def marks():\n",
    "    try:\n",
    "        print(\"enter the marks obtained by student in 5 subjects\")\n",
    "        marks1=eval(input(\"Marks in subject1:\"))\n",
    "        print(f\"Marks in subject1 is:{marks1}\")\n",
    "        marks2=eval(input(\"Marks in subject1:\"))\n",
    "        print(f\"Marks in subject2 is:{marks2}\")\n",
    "        marks3=eval(input(\"Marks in subject1:\"))\n",
    "        print(f\"Marks in subject3 is:{marks3}\")\n",
    "        marks4=eval(input(\"Marks in subject1:\"))\n",
    "        print(f\"Marks in subject4 is:{marks4}\")\n",
    "        marks5=eval(input(\"Marks in subject1:\"))\n",
    "        print(f\"Marks in subject5 is:{marks5}\")\n",
    "        aggregate=marks1+marks2+marks3+marks4+marks5\n",
    "        print(f\"the aggragate marks is:{aggregate}\")\n",
    "        percenatge=(aggregate/500)*100\n",
    "        print(f\"The percentage is:{percenatge}\")\n",
    "    except Exception as e:\n",
    "        print(e)\n",
    "        \n",
    "        \n",
    "        \n"
   ]
  },
  {
   "cell_type": "code",
   "execution_count": 10,
   "id": "8584974a-4f4b-4627-bda7-da31a7028ddd",
   "metadata": {},
   "outputs": [
    {
     "name": "stdout",
     "output_type": "stream",
     "text": [
      "enter the marks obtained by student in 5 subjects\n"
     ]
    },
    {
     "name": "stdin",
     "output_type": "stream",
     "text": [
      "Marks in subject1: 76\n"
     ]
    },
    {
     "name": "stdout",
     "output_type": "stream",
     "text": [
      "Marks in subject1 is:76\n"
     ]
    },
    {
     "name": "stdin",
     "output_type": "stream",
     "text": [
      "Marks in subject1: 87\n"
     ]
    },
    {
     "name": "stdout",
     "output_type": "stream",
     "text": [
      "Marks in subject2 is:87\n"
     ]
    },
    {
     "name": "stdin",
     "output_type": "stream",
     "text": [
      "Marks in subject1: 98\n"
     ]
    },
    {
     "name": "stdout",
     "output_type": "stream",
     "text": [
      "Marks in subject3 is:98\n"
     ]
    },
    {
     "name": "stdin",
     "output_type": "stream",
     "text": [
      "Marks in subject1: 76\n"
     ]
    },
    {
     "name": "stdout",
     "output_type": "stream",
     "text": [
      "Marks in subject4 is:76\n"
     ]
    },
    {
     "name": "stdin",
     "output_type": "stream",
     "text": [
      "Marks in subject1: 54\n"
     ]
    },
    {
     "name": "stdout",
     "output_type": "stream",
     "text": [
      "Marks in subject5 is:54\n",
      "the aggragate marks is:391\n",
      "The percentage is:78.2\n"
     ]
    }
   ],
   "source": [
    "marks()"
   ]
  },
  {
   "cell_type": "code",
   "execution_count": 15,
   "id": "39d59670-ab59-4381-8a1f-f05f202a7e9f",
   "metadata": {},
   "outputs": [],
   "source": [
    "#4Temperature of a city in Fahrenheit degrees is input through the keyboard.\n",
    "#Write a program to convert this temperature into Centigrade degrees.\n",
    "def centigrade():\n",
    "    try:\n",
    "        Fahrenheit=eval(input(\"Enter the temperature in faranhiet:\"))\n",
    "        centigrade=(Fahrenheit - 32) * 5/9\n",
    "        print(f\"The temperature in centigarde is: {centigrade} F\")\n",
    "    except Exception as e:\n",
    "        print(e)"
   ]
  },
  {
   "cell_type": "code",
   "execution_count": 16,
   "id": "424a9b00-0df5-4fcf-9e3d-f2f3da33ef3e",
   "metadata": {},
   "outputs": [
    {
     "name": "stdin",
     "output_type": "stream",
     "text": [
      "Enter the temperature in faranhiet: 65\n"
     ]
    },
    {
     "name": "stdout",
     "output_type": "stream",
     "text": [
      "The temperature in centigarde is: 18.333333333333332 F\n"
     ]
    }
   ],
   "source": [
    "centigrade()"
   ]
  },
  {
   "cell_type": "code",
   "execution_count": 27,
   "id": "ebe3a6f2-380d-42d2-907c-063b05d5642d",
   "metadata": {},
   "outputs": [],
   "source": [
    "#The length & breadth of a rectangle and radius of a circle are input through the keyboard.\n",
    "#Write a program to calculate the area & perimeter of the rectangle, and the area & circumference of the circle.\n",
    "import math\n",
    "def areas():\n",
    "    try:\n",
    "\n",
    "                length=eval(input(\"Enter the length:\"))\n",
    "                breadth=eval(input(\"Enter the breadth:\"))\n",
    "                area=length*breadth;\n",
    "                perimeter=2*length*breadth\n",
    "                print(f\"The area of rectangle is {area}\")\n",
    "                print(f\"the perimeter of rectangle is {perimeter}\")\n",
    "                radius=eval(input(\"enetr the radius for circle:\"))\n",
    "                area=math.pi*radius*radius\n",
    "                print(f\"The area of circle is :{area}\")\n",
    "                circum=2*math.pi*radius\n",
    "                print(f\"circumference of circle is:{circum}\")\n",
    "    except Exception as e:\n",
    "                print(e)\n",
    "           "
   ]
  },
  {
   "cell_type": "code",
   "execution_count": 28,
   "id": "52f0bded-7947-4d8c-b991-4f3951f7d658",
   "metadata": {},
   "outputs": [
    {
     "name": "stdin",
     "output_type": "stream",
     "text": [
      "Enter the length: 2\n",
      "Enter the breadth: 3\n"
     ]
    },
    {
     "name": "stdout",
     "output_type": "stream",
     "text": [
      "The area of rectangle is 6\n",
      "the perimeter of rectangle is 12\n"
     ]
    },
    {
     "name": "stdin",
     "output_type": "stream",
     "text": [
      "enetr the radius for circle: 4\n"
     ]
    },
    {
     "name": "stdout",
     "output_type": "stream",
     "text": [
      "The area of circle is :50.26548245743669\n",
      "circumference of circle is:25.132741228718345\n"
     ]
    }
   ],
   "source": [
    "areas()"
   ]
  },
  {
   "cell_type": "code",
   "execution_count": 33,
   "id": "dba28f38-9ed0-4ea5-9f3d-6f3f499f45df",
   "metadata": {},
   "outputs": [],
   "source": [
    "#Two numbers are input through the keyboard into two locations C and D. Write a program to interchange the contents of C and D.\n",
    "def interchnage():\n",
    "    try:\n",
    "        c=eval(input(\"enter number c:\"))\n",
    "        d=eval(input(\"enter number D:\"))\n",
    "        e=c+d\n",
    "        d=e-d\n",
    "        c=e-c\n",
    "        print(f\"After chnaging the value of c is :{c}\")\n",
    "        print(f\"After chnaging the value of d is :{d}\")\n",
    "    except Exceptionn as e:\n",
    "        print(e)\n",
    "        "
   ]
  },
  {
   "cell_type": "code",
   "execution_count": 34,
   "id": "53b83780-9ce2-4cbc-acee-423124048ddf",
   "metadata": {},
   "outputs": [
    {
     "name": "stdin",
     "output_type": "stream",
     "text": [
      "enter number c: 1\n",
      "enter number D: 2\n"
     ]
    },
    {
     "name": "stdout",
     "output_type": "stream",
     "text": [
      "After chnaging the value of c is 2\n",
      "After chnaging the value of d is 1\n"
     ]
    }
   ],
   "source": [
    "interchnage()"
   ]
  },
  {
   "cell_type": "code",
   "execution_count": 11,
   "id": "0345164c-1722-49cb-b811-29835d75dc68",
   "metadata": {},
   "outputs": [],
   "source": [
    "#If a five-digit number is input through the keyboard, write a program to reverse the number.\n",
    "def reverse():\n",
    "    try:\n",
    "        num=eval(input(\"Enter the five digit number:\"))\n",
    "        reverse=0;\n",
    "        while num != 0:\n",
    "            digit = num % 10\n",
    "            reverse= reverse * 10 + digit\n",
    "            num //= 10\n",
    "        print(f\"Reversed Number:{reverse} \" )\n",
    "    except Exception as e:\n",
    "        print(e)\n",
    "            \n",
    "        \n",
    "        \n",
    "            \n",
    "        \n",
    "        "
   ]
  },
  {
   "cell_type": "code",
   "execution_count": 12,
   "id": "beedf079-8fd8-4c5c-bb14-56d42d7169d9",
   "metadata": {},
   "outputs": [
    {
     "name": "stdin",
     "output_type": "stream",
     "text": [
      "Enter the five digit number: 12345\n"
     ]
    },
    {
     "name": "stdout",
     "output_type": "stream",
     "text": [
      "Reversed Number:54321 \n"
     ]
    }
   ],
   "source": [
    "reverse()"
   ]
  },
  {
   "cell_type": "code",
   "execution_count": 43,
   "id": "665b87fd-1edb-43a1-8320-75c63b0ace83",
   "metadata": {},
   "outputs": [],
   "source": [
    "#If a four-digit number is input through the keyboard, write a program to obtain the sum of the first and last digit of this number.\n",
    "def firstandlast():\n",
    "    try:\n",
    "        num=eval(input(\"Enter a four digit number:\"))\n",
    "        firstdigit=num//1000\n",
    "        lastdigit=num%10\n",
    "        print(firstdigit)\n",
    "        print(lastdigit)\n",
    "        sum=firstdigit+lastdigit\n",
    "        print(sum)\n",
    "    except Exception as e:\n",
    "        print(e)\n",
    "        "
   ]
  },
  {
   "cell_type": "code",
   "execution_count": 44,
   "id": "805dbe1c-8efc-4d48-9633-3d5ef4a22392",
   "metadata": {},
   "outputs": [
    {
     "name": "stdin",
     "output_type": "stream",
     "text": [
      "Enter a four digit number: 9876\n"
     ]
    },
    {
     "name": "stdout",
     "output_type": "stream",
     "text": [
      "9\n",
      "6\n",
      "15\n"
     ]
    }
   ],
   "source": [
    "firstandlast()"
   ]
  },
  {
   "cell_type": "code",
   "execution_count": 7,
   "id": "91f1c9c3-3921-4064-a4d8-79e12b1b8173",
   "metadata": {},
   "outputs": [],
   "source": [
    "#In a town, the percentage of men is 52. The percentage of total literacy is 48. \n",
    "#If total percentage of literate men is 35 of the total population, \n",
    "#write a program to find the total number of illiterate men and women if the population of the town is 80,000.\n",
    "    "
   ]
  },
  {
   "cell_type": "code",
   "execution_count": 17,
   "id": "a833a538-2913-46e3-a6c6-855d6253292f",
   "metadata": {},
   "outputs": [],
   "source": [
    "def literatepopulation():\n",
    "    try:\n",
    "        totalpopulation=80000\n",
    "        percenatgeofmen=(52/100)*80000\n",
    "        print(f\"the total men are: {percenatgeofmen}\")\n",
    "        totalliteracy=(48/100)*80000\n",
    "        print(f\"the total literacy prople are:{totalliteracy}\")\n",
    "        totallitercymen=(35/100)*80000\n",
    "        print(f\"the total literate men are: {totallitercymen}\")\n",
    "        totalliteracywomen=totalliteracy-totallitercymen\n",
    "        print(f\"the total literate women are:{totalliteracywomen}\")\n",
    "    except Exception as e:\n",
    "        print(e)\n"
   ]
  },
  {
   "cell_type": "code",
   "execution_count": 18,
   "id": "4b110274-169c-43c7-9fa6-3b1b465aef39",
   "metadata": {},
   "outputs": [
    {
     "name": "stdout",
     "output_type": "stream",
     "text": [
      "the total men are: 41600.0\n",
      "the total literacy prople are:38400.0\n",
      "the total literate men are: 28000.0\n",
      "the total literate women are:10400.0\n"
     ]
    }
   ],
   "source": [
    "literatepopulation()"
   ]
  },
  {
   "cell_type": "code",
   "execution_count": 28,
   "id": "cc700945-016e-4f6b-8753-b0a71aa98dcd",
   "metadata": {},
   "outputs": [],
   "source": [
    "#A cashier has currency notes of denominations 10, 50 and 100.\n",
    "#If the amount to be withdrawn is input through the keyboard in hundreds,\n",
    "#find the total number of currency notes of each denomination the cashier will have to give to the withdrawer.\n",
    "def demoninations():\n",
    "    try:\n",
    "        amount=eval(input(\"Enter the amount to withdraw:\"))\n",
    "        hun=amount//100\n",
    "        amount = amount%100\n",
    "        fiftys=amount//50\n",
    "        amount=amount%50\n",
    "        ten = amount//10\n",
    "        print(f\"No of Hundred Notes :{hun}\")\n",
    "        print(f\"No of Fifty Notes :{fiftys}\")\n",
    "        print(f\"No of Ten Notes :{ten}\")\n",
    "    except Exception as e:\n",
    "        print(e)"
   ]
  },
  {
   "cell_type": "code",
   "execution_count": 30,
   "id": "43204f1d-bf35-42e4-bcfa-e68fcfa82fa7",
   "metadata": {},
   "outputs": [
    {
     "name": "stdin",
     "output_type": "stream",
     "text": [
      "Enter the amount to withdraw: 4567\n"
     ]
    },
    {
     "name": "stdout",
     "output_type": "stream",
     "text": [
      "No of Hundred Notes :45\n",
      "No of Fifty Notes :1\n",
      "No of Ten Notes :1\n"
     ]
    }
   ],
   "source": [
    "demoninations()"
   ]
  },
  {
   "cell_type": "code",
   "execution_count": null,
   "id": "54cdc8f0-aa69-4808-9417-559978df2373",
   "metadata": {},
   "outputs": [],
   "source": []
  }
 ],
 "metadata": {
  "kernelspec": {
   "display_name": "Python 3 (ipykernel)",
   "language": "python",
   "name": "python3"
  },
  "language_info": {
   "codemirror_mode": {
    "name": "ipython",
    "version": 3
   },
   "file_extension": ".py",
   "mimetype": "text/x-python",
   "name": "python",
   "nbconvert_exporter": "python",
   "pygments_lexer": "ipython3",
   "version": "3.11.7"
  }
 },
 "nbformat": 4,
 "nbformat_minor": 5
}
