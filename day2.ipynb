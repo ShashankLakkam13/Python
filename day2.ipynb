{
 "cells": [
  {
   "cell_type": "code",
   "execution_count": null,
   "id": "9f8de686-25ff-44e6-a8cf-07a2f7c14520",
   "metadata": {},
   "outputs": [],
   "source": [
    "# variables"
   ]
  },
  {
   "cell_type": "markdown",
   "id": "a877dea0-e75d-4396-864f-d2ef971a182d",
   "metadata": {},
   "source": [
    "# varables does not start with numbers"
   ]
  },
  {
   "cell_type": "code",
   "execution_count": 1,
   "id": "49d5ae5d-cdd0-43ac-a571-3aef99306ae5",
   "metadata": {},
   "outputs": [
    {
     "ename": "SyntaxError",
     "evalue": "invalid decimal literal (3360464161.py, line 1)",
     "output_type": "error",
     "traceback": [
      "\u001b[0;36m  Cell \u001b[0;32mIn[1], line 1\u001b[0;36m\u001b[0m\n\u001b[0;31m    123number=123\u001b[0m\n\u001b[0m      ^\u001b[0m\n\u001b[0;31mSyntaxError\u001b[0m\u001b[0;31m:\u001b[0m invalid decimal literal\n"
     ]
    }
   ],
   "source": [
    "123number=123\n",
    "123number"
   ]
  },
  {
   "cell_type": "markdown",
   "id": "6c49fb68-a9b0-4d76-86d6-5afdb78cc087",
   "metadata": {},
   "source": [
    "# esc +m for markdown cell\n",
    "\n",
    "# esc+y for Code cell"
   ]
  },
  {
   "cell_type": "markdown",
   "id": "6461d4be-a987-42d0-be4c-9ea8e15126ed",
   "metadata": {},
   "source": [
    "# varibles can end with numbers"
   ]
  },
  {
   "cell_type": "code",
   "execution_count": 2,
   "id": "c38030df-bc84-4ed9-ba48-8854c6cf2e38",
   "metadata": {},
   "outputs": [
    {
     "data": {
      "text/plain": [
       "300"
      ]
     },
     "execution_count": 2,
     "metadata": {},
     "output_type": "execute_result"
    }
   ],
   "source": [
    "var123=300\n",
    "\n",
    "var123"
   ]
  },
  {
   "cell_type": "markdown",
   "id": "0c455a07-69a8-4e27-a8d5-d86a8467739d",
   "metadata": {},
   "source": [
    "# variables doesnt have special characters except underscore"
   ]
  },
  {
   "cell_type": "code",
   "execution_count": 3,
   "id": "ce54b1f5-7e6f-4ff3-b283-10c92a471c4f",
   "metadata": {},
   "outputs": [
    {
     "ename": "SyntaxError",
     "evalue": "invalid syntax (4230096218.py, line 1)",
     "output_type": "error",
     "traceback": [
      "\u001b[0;36m  Cell \u001b[0;32mIn[3], line 1\u001b[0;36m\u001b[0m\n\u001b[0;31m    var$123=200\u001b[0m\n\u001b[0m       ^\u001b[0m\n\u001b[0;31mSyntaxError\u001b[0m\u001b[0;31m:\u001b[0m invalid syntax\n"
     ]
    }
   ],
   "source": [
    "var$123=200\n",
    "var$var123"
   ]
  },
  {
   "cell_type": "markdown",
   "id": "dea00a32-ec85-43bd-9ca3-01da0b671bc4",
   "metadata": {},
   "source": [
    "# only _ is also a variable"
   ]
  },
  {
   "cell_type": "code",
   "execution_count": 5,
   "id": "fdeba3ca-7193-4db4-8860-68177021902e",
   "metadata": {},
   "outputs": [
    {
     "data": {
      "text/plain": [
       "100"
      ]
     },
     "execution_count": 5,
     "metadata": {},
     "output_type": "execute_result"
    }
   ],
   "source": [
    "_=100\n",
    "_\n"
   ]
  },
  {
   "cell_type": "markdown",
   "id": "d1f93973-8317-4542-929f-24df032a7579",
   "metadata": {},
   "source": [
    "# Keywords should not be used as variables"
   ]
  },
  {
   "cell_type": "code",
   "execution_count": 1,
   "id": "4c52b4db-5e82-4d5e-8e0d-cd45a106c770",
   "metadata": {},
   "outputs": [],
   "source": [
    "import os"
   ]
  },
  {
   "cell_type": "code",
   "execution_count": 2,
   "id": "10dc81e3-e504-481a-8716-19b165da7755",
   "metadata": {},
   "outputs": [
    {
     "data": {
      "text/plain": [
       "'/Users/shashankreddy/nareshit/Datascience/Python'"
      ]
     },
     "execution_count": 2,
     "metadata": {},
     "output_type": "execute_result"
    }
   ],
   "source": [
    "os.getcwd()"
   ]
  },
  {
   "cell_type": "code",
   "execution_count": null,
   "id": "02ef6e1e-79e0-45aa-8a1f-0b646e3c7c4f",
   "metadata": {},
   "outputs": [],
   "source": []
  }
 ],
 "metadata": {
  "kernelspec": {
   "display_name": "Python 3 (ipykernel)",
   "language": "python",
   "name": "python3"
  },
  "language_info": {
   "codemirror_mode": {
    "name": "ipython",
    "version": 3
   },
   "file_extension": ".py",
   "mimetype": "text/x-python",
   "name": "python",
   "nbconvert_exporter": "python",
   "pygments_lexer": "ipython3",
   "version": "3.11.7"
  }
 },
 "nbformat": 4,
 "nbformat_minor": 5
}
