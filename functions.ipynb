{
 "cells": [
  {
   "cell_type": "markdown",
   "id": "3efa57d2-3b5b-4246-96bb-dda55de9d0d3",
   "metadata": {},
   "source": [
    "** A function is a reusable code which can be used multiple times in devloping in complete application"
   ]
  },
  {
   "cell_type": "code",
   "execution_count": 11,
   "id": "d0ace6ea-8aeb-430b-839b-ae0ba90f942e",
   "metadata": {},
   "outputs": [],
   "source": [
    "\n",
    "def add():\n",
    "    try:\n",
    "        num1=100;\n",
    "        num2=200;\n",
    "        add=num1+num2;\n",
    "        print(add)\n",
    "    except Exception as e:\n",
    "        print(e)\n",
    "    "
   ]
  },
  {
   "cell_type": "code",
   "execution_count": 12,
   "id": "05f32d32-83a5-4ce0-a71f-b6dbd9ff6db1",
   "metadata": {},
   "outputs": [
    {
     "name": "stdout",
     "output_type": "stream",
     "text": [
      "300\n"
     ]
    }
   ],
   "source": [
    "add()"
   ]
  },
  {
   "cell_type": "code",
   "execution_count": 13,
   "id": "e3267d15-0f21-4c24-a0c8-c4ae077e34b8",
   "metadata": {},
   "outputs": [],
   "source": [
    "def add1():\n",
    "    try:\n",
    "        num1=eval(input(\"enter number1:\"))\n",
    "        num2=eval(input(\"enter number1:\"))\n",
    "        add=num1+num2;\n",
    "        print(add)\n",
    "    except Exception as e:\n",
    "        print(e)"
   ]
  },
  {
   "cell_type": "code",
   "execution_count": 14,
   "id": "1a619fc2-f7b1-41e6-a40c-9a09d1d0d81a",
   "metadata": {},
   "outputs": [
    {
     "name": "stdin",
     "output_type": "stream",
     "text": [
      "enter number1: r\n"
     ]
    },
    {
     "name": "stdout",
     "output_type": "stream",
     "text": [
      "name 'r' is not defined\n"
     ]
    }
   ],
   "source": [
    "add1()"
   ]
  },
  {
   "cell_type": "code",
   "execution_count": 5,
   "id": "e6da1624-f868-45db-8240-fb35c28f6a8f",
   "metadata": {},
   "outputs": [],
   "source": [
    "import random\n",
    "def add2():\n",
    "    num1=random.randint(1,10)\n",
    "    num2=random.randint(1,10)\n",
    "    add=num1+num2;\n",
    "    print(add)"
   ]
  },
  {
   "cell_type": "code",
   "execution_count": 6,
   "id": "2c6d02fa-cd82-4a32-9f57-c581f4d0c831",
   "metadata": {},
   "outputs": [
    {
     "name": "stdout",
     "output_type": "stream",
     "text": [
      "13\n"
     ]
    }
   ],
   "source": [
    "add2()"
   ]
  },
  {
   "cell_type": "markdown",
   "id": "527370fb-e88d-4181-8efe-e02fba3b7e5a",
   "metadata": {},
   "source": [
    "**Assignment**"
   ]
  },
  {
   "cell_type": "code",
   "execution_count": 15,
   "id": "c0fb9463-b9ea-4b96-b55f-64ccef6b8637",
   "metadata": {},
   "outputs": [],
   "source": [
    "def averageof3():\n",
    "    try:\n",
    "        num1=eval(input(\"enter number1:\"))\n",
    "        num2=eval(input(\"enter number2:\")) \n",
    "        num3=eval(input(\"enter number3:\")) \n",
    "        avg=(num1+num2+num3)/3\n",
    "        print(avg)\n",
    "    except Exception as e:\n",
    "        print(e)\n"
   ]
  },
  {
   "cell_type": "code",
   "execution_count": 16,
   "id": "b2f25f82-a489-41d8-accd-3af467ae21e0",
   "metadata": {},
   "outputs": [
    {
     "name": "stdin",
     "output_type": "stream",
     "text": [
      "enter number1: 2\n",
      "enter number2: 3\n",
      "enter number3: 4\n"
     ]
    },
    {
     "name": "stdout",
     "output_type": "stream",
     "text": [
      "3.0\n"
     ]
    }
   ],
   "source": [
    "averageof3()"
   ]
  },
  {
   "cell_type": "code",
   "execution_count": 17,
   "id": "b479bc23-ac4a-416c-b6b7-85ab05788e22",
   "metadata": {},
   "outputs": [],
   "source": [
    "def totalbill():\n",
    "    try:\n",
    "        priceofmeal=eval(input(\"enter the price of meal:\"))\n",
    "        tippercent=eval(input(\"enter the tip percentage\"))\n",
    "        tip=(tippercent/100)*priceofmeal;\n",
    "        totalprice=priceofmeal+tip;\n",
    "        print(f\"the tip is {tip}\")\n",
    "        print(f\"the total price of meal with tip is{totalprice}\")\n",
    "    except Exception as e:\n",
    "        print(e)"
   ]
  },
  {
   "cell_type": "code",
   "execution_count": 18,
   "id": "01277075-f386-4764-a2c7-15f6ca18def2",
   "metadata": {},
   "outputs": [
    {
     "name": "stdin",
     "output_type": "stream",
     "text": [
      "enter the price of meal: 23\n",
      "enter the tip percentage 2\n"
     ]
    },
    {
     "name": "stdout",
     "output_type": "stream",
     "text": [
      "the tip is 0.46\n",
      "the total price of meal with tip is23.46\n"
     ]
    }
   ],
   "source": [
    "totalbill()"
   ]
  },
  {
   "cell_type": "code",
   "execution_count": 20,
   "id": "1c4611ac-1599-4774-b89b-9c745ba47b07",
   "metadata": {},
   "outputs": [],
   "source": [
    "import random\n",
    "def evennum():\n",
    "    try:\n",
    "        var1=random.randint(1,10)\n",
    "        if(var1%2==0):\n",
    "            print(f\"{var1} is even\")\n",
    "        else:\n",
    "            print(f\"{var1} is odd\")\n",
    "    except Exception as e:\n",
    "        print(e)\n",
    "                        "
   ]
  },
  {
   "cell_type": "code",
   "execution_count": 21,
   "id": "5d251f84-6ff6-4e78-a86f-e8026ac212df",
   "metadata": {},
   "outputs": [
    {
     "name": "stdout",
     "output_type": "stream",
     "text": [
      "7 is odd\n"
     ]
    }
   ],
   "source": [
    "evennum()"
   ]
  },
  {
   "cell_type": "code",
   "execution_count": 22,
   "id": "51d3c8f6-38d3-4675-b348-a82b87664fdd",
   "metadata": {},
   "outputs": [],
   "source": [
    "def numberfunction():\n",
    "    try:\n",
    "        num=eval(input(\"enter the number:\"))\n",
    "        if(num>=0):\n",
    "            if(num==0):\n",
    "                print(\"zero\")\n",
    "            else:\n",
    "                print(\"number greater than zero\")\n",
    "        else:\n",
    "            print(\"number is negative\")\n",
    "    except exception as e:\n",
    "        print(e)\n",
    "    "
   ]
  },
  {
   "cell_type": "code",
   "execution_count": 23,
   "id": "62f3eaaa-d5c2-4e94-b1a0-82590cba12b6",
   "metadata": {},
   "outputs": [
    {
     "name": "stdin",
     "output_type": "stream",
     "text": [
      "enter the number: 3\n"
     ]
    },
    {
     "name": "stdout",
     "output_type": "stream",
     "text": [
      "number greater than zero\n"
     ]
    }
   ],
   "source": [
    "numberfunction()"
   ]
  },
  {
   "cell_type": "code",
   "execution_count": 25,
   "id": "7d028f12-ea88-4f3e-80b4-0807fbb5c482",
   "metadata": {},
   "outputs": [],
   "source": [
    "import random\n",
    "def randomguess():\n",
    "    try:\n",
    "        num1=random.randint(1,10)\n",
    "        print(\"enter a number between 1 to 10\")\n",
    "        num2=eval(input(\"guess the number:\"))\n",
    "        if(num1==num2):\n",
    "            print(\"won\")\n",
    "        else:\n",
    "            print(\"fail\")\n",
    "    except Exception as e:\n",
    "        print(e)"
   ]
  },
  {
   "cell_type": "code",
   "execution_count": 26,
   "id": "88ef58e8-d848-4fe8-a3ee-3a699a60c02d",
   "metadata": {},
   "outputs": [
    {
     "name": "stdout",
     "output_type": "stream",
     "text": [
      "enter a number between 1 to 10\n"
     ]
    },
    {
     "name": "stdin",
     "output_type": "stream",
     "text": [
      "guess the number: 3\n"
     ]
    },
    {
     "name": "stdout",
     "output_type": "stream",
     "text": [
      "fail\n"
     ]
    }
   ],
   "source": [
    "randomguess()"
   ]
  },
  {
   "cell_type": "code",
   "execution_count": null,
   "id": "93818d5d-c7ca-498a-87e7-a333a515695e",
   "metadata": {},
   "outputs": [],
   "source": []
  }
 ],
 "metadata": {
  "kernelspec": {
   "display_name": "Python 3 (ipykernel)",
   "language": "python",
   "name": "python3"
  },
  "language_info": {
   "codemirror_mode": {
    "name": "ipython",
    "version": 3
   },
   "file_extension": ".py",
   "mimetype": "text/x-python",
   "name": "python",
   "nbconvert_exporter": "python",
   "pygments_lexer": "ipython3",
   "version": "3.11.7"
  }
 },
 "nbformat": 4,
 "nbformat_minor": 5
}
