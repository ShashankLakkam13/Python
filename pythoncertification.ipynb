{
 "cells": [
  {
   "cell_type": "code",
   "execution_count": 1,
   "id": "7aaf511a-95ee-4ce2-b760-e0d6f9a77d84",
   "metadata": {},
   "outputs": [],
   "source": [
    "# the name of class should start with capital letter\n",
    "#self:self is a referencing call.if we want to invoke something inside a class we need self\n",
    "class Phone:\n",
    "    def makecall(self):\n",
    "        print(\"making phone call\")\n",
    "    def playgame(self):\n",
    "        print(\"lets play a game\")\n"
   ]
  },
  {
   "cell_type": "code",
   "execution_count": 3,
   "id": "952624a3-eb80-4a66-8f46-0dc02ccf4e29",
   "metadata": {},
   "outputs": [],
   "source": [
    "p1=Phone()"
   ]
  },
  {
   "cell_type": "code",
   "execution_count": 4,
   "id": "6600238c-004f-4858-8b4d-b1824b5ca32d",
   "metadata": {},
   "outputs": [
    {
     "name": "stdout",
     "output_type": "stream",
     "text": [
      "making phone call\n"
     ]
    }
   ],
   "source": [
    "p1.makecall()"
   ]
  },
  {
   "cell_type": "code",
   "execution_count": 5,
   "id": "f8eda628-c47e-4a37-973e-585dd9d2a896",
   "metadata": {},
   "outputs": [],
   "source": [
    "class Phone1:\n",
    "    def setcolor(self,color):\n",
    "        self.color=color\n",
    "    def setcost(self,cost):\n",
    "        self.cost=cost\n",
    "    def showcolor(self):\n",
    "        return self.color\n",
    "    def showcost(self):\n",
    "        return self.cost\n",
    "    def playgame(self):\n",
    "        print(\"playing game\")\n",
    "    def makecall(self):\n",
    "        print(\"making call\")"
   ]
  },
  {
   "cell_type": "code",
   "execution_count": 6,
   "id": "00e9495f-b078-46c8-81c5-e3d29e2fa20a",
   "metadata": {},
   "outputs": [],
   "source": [
    "p2=Phone1()"
   ]
  },
  {
   "cell_type": "code",
   "execution_count": 7,
   "id": "d4caebb3-cd0c-4811-a22b-d665eb0c4d5d",
   "metadata": {},
   "outputs": [],
   "source": [
    "p2.setcolor(\"blue\")"
   ]
  },
  {
   "cell_type": "code",
   "execution_count": 8,
   "id": "dd161f07-02dd-476d-98c0-0fa876b778b1",
   "metadata": {},
   "outputs": [],
   "source": [
    "p2.setcost(500)"
   ]
  },
  {
   "cell_type": "code",
   "execution_count": 9,
   "id": "3a1910c8-8853-41cc-afb3-9d22e1d9ecf8",
   "metadata": {},
   "outputs": [
    {
     "data": {
      "text/plain": [
       "'blue'"
      ]
     },
     "execution_count": 9,
     "metadata": {},
     "output_type": "execute_result"
    }
   ],
   "source": [
    "p2.showcolor()"
   ]
  },
  {
   "cell_type": "code",
   "execution_count": 10,
   "id": "499e2415-5e9b-430e-85a1-057c7cc79041",
   "metadata": {},
   "outputs": [
    {
     "data": {
      "text/plain": [
       "500"
      ]
     },
     "execution_count": 10,
     "metadata": {},
     "output_type": "execute_result"
    }
   ],
   "source": [
    "p2.showcost()"
   ]
  },
  {
   "cell_type": "code",
   "execution_count": 11,
   "id": "19b6d9d4-b2a6-40d8-a89d-745580ea0304",
   "metadata": {},
   "outputs": [
    {
     "name": "stdout",
     "output_type": "stream",
     "text": [
      "playing game\n"
     ]
    }
   ],
   "source": [
    "p2.playgame()"
   ]
  },
  {
   "cell_type": "code",
   "execution_count": 12,
   "id": "6545ed80-26d6-4859-b609-f9a960805e70",
   "metadata": {},
   "outputs": [
    {
     "name": "stdout",
     "output_type": "stream",
     "text": [
      "making call\n"
     ]
    }
   ],
   "source": [
    "p2.makecall()"
   ]
  },
  {
   "cell_type": "code",
   "execution_count": 15,
   "id": "23356c61-6aec-4a77-8841-02253b8abc0b",
   "metadata": {},
   "outputs": [],
   "source": [
    "#creating  a class with a counstructor\n",
    "\n",
    "#with using constructor we can create an object with values(we dont need set method for initializing the values)\n",
    "#__init__() is the default constructor\n",
    "class employee:\n",
    "    def __init__(self,name,age,salary,gender):\n",
    "        self.name=name\n",
    "        self.age=age\n",
    "        self.salary=salary\n",
    "        self.gender=gender\n",
    "    def print(self):\n",
    "        print(\"the name of person is\", self.name)\n",
    "        print(\"the age of person is\" ,self.age)\n",
    "        print(\"the salary of person is\", self.salary)\n",
    "        print(\"the gender of person is\", self.gender)\n",
    "    \n"
   ]
  },
  {
   "cell_type": "code",
   "execution_count": 16,
   "id": "01909522-dc51-4967-b74c-7148119a1879",
   "metadata": {},
   "outputs": [],
   "source": [
    "e1=employee(\"shashank\",26,80000,\"male\")"
   ]
  },
  {
   "cell_type": "code",
   "execution_count": 17,
   "id": "d0710f2e-dd4b-4380-af93-a975c94eb60c",
   "metadata": {},
   "outputs": [
    {
     "name": "stdout",
     "output_type": "stream",
     "text": [
      "the name of person is shashank\n",
      "the age of person is 26\n",
      "the salary of person is 80000\n",
      "the gender of person is male\n"
     ]
    }
   ],
   "source": [
    "e1.print()"
   ]
  },
  {
   "cell_type": "code",
   "execution_count": 18,
   "id": "3ba1d49a-1de8-486b-96ec-f1870609e50a",
   "metadata": {},
   "outputs": [],
   "source": [
    "#Inheritence in pyhton"
   ]
  },
  {
   "cell_type": "code",
   "execution_count": 23,
   "id": "a89c6484-0db0-4cca-bd81-86cbf814dbee",
   "metadata": {},
   "outputs": [],
   "source": [
    "class vechile:\n",
    "    def __init__(self,mileage,cost):\n",
    "        self.mileage=mileage\n",
    "        self.cost=cost\n",
    "    def details(self):\n",
    "        print(\"i am vachike\")\n",
    "        print(\"the mileage is\",self.mileage)\n",
    "        print(\"the cost is \",self.cost)\n",
    "        "
   ]
  },
  {
   "cell_type": "code",
   "execution_count": 24,
   "id": "83f18437-193b-4176-aded-34ccc793b537",
   "metadata": {},
   "outputs": [
    {
     "name": "stdout",
     "output_type": "stream",
     "text": [
      "i am vachike\n",
      "the mileage is 10\n",
      "the cost is  1000\n"
     ]
    }
   ],
   "source": [
    "v1=vechile(10,1000)\n",
    "v1.details()"
   ]
  },
  {
   "cell_type": "code",
   "execution_count": 25,
   "id": "947257f9-49f8-4644-838e-9af27717ac81",
   "metadata": {},
   "outputs": [],
   "source": [
    "class car(vechile):\n",
    "    def showcardetails(self):\n",
    "        print(\"i am a car\")"
   ]
  },
  {
   "cell_type": "code",
   "execution_count": 26,
   "id": "7bd5847d-0c0a-4194-8d78-601841b366a0",
   "metadata": {},
   "outputs": [],
   "source": [
    "c1=car(12,10000)"
   ]
  },
  {
   "cell_type": "code",
   "execution_count": 27,
   "id": "006bb49b-6e33-4421-a0f7-d718bb038eea",
   "metadata": {},
   "outputs": [
    {
     "name": "stdout",
     "output_type": "stream",
     "text": [
      "i am vachike\n",
      "the mileage is 12\n",
      "the cost is  10000\n"
     ]
    }
   ],
   "source": [
    "c1.details()"
   ]
  },
  {
   "cell_type": "code",
   "execution_count": 28,
   "id": "87f47cbc-0e71-4b76-98cd-750172bbe14c",
   "metadata": {},
   "outputs": [
    {
     "name": "stdout",
     "output_type": "stream",
     "text": [
      "i am a car\n"
     ]
    }
   ],
   "source": [
    "c1.showcardetails()"
   ]
  },
  {
   "cell_type": "code",
   "execution_count": 29,
   "id": "e9be7727-3a54-48e0-9695-351b521d3b64",
   "metadata": {},
   "outputs": [],
   "source": [
    "#overriding the init method"
   ]
  },
  {
   "cell_type": "code",
   "execution_count": 30,
   "id": "71c9d770-d332-4e29-b632-21981b726311",
   "metadata": {},
   "outputs": [],
   "source": [
    "class vechile:\n",
    "    def __init__(self,mileage,cost):\n",
    "        self.mileage=mileage\n",
    "        self.cost=cost\n",
    "    def details(self):\n",
    "        print(\"i am vachike\")\n",
    "        print(\"the mileage is\",self.mileage)\n",
    "        print(\"the cost is \",self.cost)"
   ]
  },
  {
   "cell_type": "code",
   "execution_count": 34,
   "id": "65e07fd4-03b0-47e4-aa04-68203b7fe7bb",
   "metadata": {},
   "outputs": [],
   "source": [
    "class car(vechile):\n",
    "    def __init__(self,mileage,cost,tyres,hp):\n",
    "        #invoking the init method of parent class\n",
    "        super().__init__(mileage,cost)\n",
    "        self.tyres=tyres\n",
    "        self.hp=hp\n",
    "    def cardetails(self):\n",
    "        print(\"i am a car\")\n",
    "        print(\"the tyres are \",self.tyres)\n",
    "        print(\"the horse power is\",self.hp)"
   ]
  },
  {
   "cell_type": "code",
   "execution_count": 35,
   "id": "2bbfeb11-78fb-4a90-a8ce-5306a4047ef0",
   "metadata": {},
   "outputs": [],
   "source": [
    "c1=car(12,123456,4,786)"
   ]
  },
  {
   "cell_type": "code",
   "execution_count": 36,
   "id": "d2f5fa18-a397-4afa-986c-6d662c16f7e8",
   "metadata": {},
   "outputs": [
    {
     "name": "stdout",
     "output_type": "stream",
     "text": [
      "i am vachike\n",
      "the mileage is 12\n",
      "the cost is  123456\n"
     ]
    }
   ],
   "source": [
    "c1.details()"
   ]
  },
  {
   "cell_type": "code",
   "execution_count": 37,
   "id": "0ba01b61-9574-4220-93a2-6bae78ca628c",
   "metadata": {},
   "outputs": [
    {
     "name": "stdout",
     "output_type": "stream",
     "text": [
      "i am a car\n",
      "the tyres are  4\n",
      "the horse power is 786\n"
     ]
    }
   ],
   "source": [
    "c1.cardetails()"
   ]
  },
  {
   "cell_type": "code",
   "execution_count": 54,
   "id": "f5ce2ae1-4724-46e8-a4b6-42dd1681e0a3",
   "metadata": {},
   "outputs": [],
   "source": [
    "#types of inheritence\n",
    "#the above we discussed is  single inheritence"
   ]
  },
  {
   "cell_type": "code",
   "execution_count": null,
   "id": "be16fb66-06ab-4b2e-9988-af5c03c8ef5b",
   "metadata": {},
   "outputs": [],
   "source": [
    "#multiple  inheritence"
   ]
  },
  {
   "cell_type": "code",
   "execution_count": 40,
   "id": "755733b4-a6be-490a-8cda-340ac2738c22",
   "metadata": {},
   "outputs": [],
   "source": [
    "class parent1():\n",
    "    def assignstr1(self,str1):\n",
    "        self.str1=str1\n",
    "    def showstr1(self):\n",
    "        print(\"the str1 is\",self.str1)\n",
    "    "
   ]
  },
  {
   "cell_type": "code",
   "execution_count": 41,
   "id": "ec0d4ffa-cd48-4520-b7b9-876916ed4ddf",
   "metadata": {},
   "outputs": [],
   "source": [
    "class parent2():\n",
    "    def assignstr2(self,str2):\n",
    "        self.str2=str2\n",
    "    def showstr2(self):\n",
    "        print(\"the str2 is\",self.str2)"
   ]
  },
  {
   "cell_type": "code",
   "execution_count": 44,
   "id": "522eb134-1cfd-447f-a52b-5aa837d77fec",
   "metadata": {},
   "outputs": [],
   "source": [
    "class child(parent1,parent2):\n",
    "    def assignstr3(self,str3):\n",
    "        self.str3=str3\n",
    "    def showstr3(self):\n",
    "        print(\"the str3 is\",self.str3)"
   ]
  },
  {
   "cell_type": "code",
   "execution_count": 45,
   "id": "669e5b1a-ef70-49c5-a690-c1243067b013",
   "metadata": {},
   "outputs": [],
   "source": [
    "child1=child()"
   ]
  },
  {
   "cell_type": "code",
   "execution_count": 48,
   "id": "fcc3c4c9-aea9-4c85-a7b9-02c976738a63",
   "metadata": {},
   "outputs": [],
   "source": [
    "child1.assignstr1('Shashank')"
   ]
  },
  {
   "cell_type": "code",
   "execution_count": 49,
   "id": "86ff0e5d-3b4b-44e6-89a2-8533d870fec5",
   "metadata": {},
   "outputs": [
    {
     "name": "stdout",
     "output_type": "stream",
     "text": [
      "the str1 is Shashank\n"
     ]
    }
   ],
   "source": [
    "child1.showstr1()"
   ]
  },
  {
   "cell_type": "code",
   "execution_count": 50,
   "id": "8ceda06e-e9df-4baf-bd8c-f2560c928c7b",
   "metadata": {},
   "outputs": [],
   "source": [
    "child1.assignstr2(\"ramesh\")"
   ]
  },
  {
   "cell_type": "code",
   "execution_count": 51,
   "id": "57811e5f-6e90-4bac-91f8-8f66b3c13b8a",
   "metadata": {},
   "outputs": [
    {
     "name": "stdout",
     "output_type": "stream",
     "text": [
      "the str2 is ramesh\n"
     ]
    }
   ],
   "source": [
    "child1.showstr2()"
   ]
  },
  {
   "cell_type": "code",
   "execution_count": 52,
   "id": "b61dadb1-dda5-4583-a2e5-8a71e948b350",
   "metadata": {},
   "outputs": [],
   "source": [
    "child1.assignstr3(\"varun\")"
   ]
  },
  {
   "cell_type": "code",
   "execution_count": 53,
   "id": "6bb00f04-2894-4439-b3e0-1bd3f50e3bc3",
   "metadata": {},
   "outputs": [
    {
     "name": "stdout",
     "output_type": "stream",
     "text": [
      "the str3 is varun\n"
     ]
    }
   ],
   "source": [
    "child1.showstr3()"
   ]
  },
  {
   "cell_type": "code",
   "execution_count": 55,
   "id": "03a758a9-462f-4df6-877e-889cdd8ac54f",
   "metadata": {},
   "outputs": [],
   "source": [
    "#multi level inheritence"
   ]
  },
  {
   "cell_type": "code",
   "execution_count": 56,
   "id": "a0de1304-a438-43a0-8da8-2f5fb3afe2bb",
   "metadata": {},
   "outputs": [],
   "source": [
    "class grandparent():\n",
    "    def assignname1(self,name1):\n",
    "        self.name1=name1\n",
    "    def showname1(self):\n",
    "        print(\"the name 1 is\",self.name1)"
   ]
  },
  {
   "cell_type": "code",
   "execution_count": 57,
   "id": "39c4ab7d-88c1-47bc-9df2-293d38357c84",
   "metadata": {},
   "outputs": [],
   "source": [
    "class parent(grandparent):\n",
    "    def assignname2(self,name2):\n",
    "        self.name2=name2\n",
    "    def showname2(self):\n",
    "        print(\"the name 2 is \",self.name2)"
   ]
  },
  {
   "cell_type": "code",
   "execution_count": 58,
   "id": "33a3e44f-9a78-4604-9ba8-8bc40eb530d0",
   "metadata": {},
   "outputs": [],
   "source": [
    "class grandchild(parent):\n",
    "    def assignname3(self,name3):\n",
    "        self.name3=name3\n",
    "    def showname3(self):\n",
    "        print(\"the name 3 is \",self.name3)"
   ]
  },
  {
   "cell_type": "code",
   "execution_count": 59,
   "id": "a874a041-701f-471c-9a57-5a693a980f96",
   "metadata": {},
   "outputs": [],
   "source": [
    "gc1=grandchild()"
   ]
  },
  {
   "cell_type": "code",
   "execution_count": 60,
   "id": "da728b37-6444-4532-8ef0-f164ca865e70",
   "metadata": {},
   "outputs": [],
   "source": [
    "gc1.assignname3(\"shashank\")"
   ]
  },
  {
   "cell_type": "code",
   "execution_count": 61,
   "id": "78cf51a3-4a01-4569-8cb1-ceead9ddc9b8",
   "metadata": {},
   "outputs": [],
   "source": [
    "gc1.assignname2(\"gangadhar\")"
   ]
  },
  {
   "cell_type": "code",
   "execution_count": 62,
   "id": "f2fc32dd-e4e1-4833-8319-43e2416a5395",
   "metadata": {},
   "outputs": [],
   "source": [
    "gc1.assignname1(\"krishna reddy\")"
   ]
  },
  {
   "cell_type": "code",
   "execution_count": 63,
   "id": "e371a5c2-ad4d-440b-b166-3c0953dfbe79",
   "metadata": {},
   "outputs": [
    {
     "name": "stdout",
     "output_type": "stream",
     "text": [
      "the name 1 is krishna reddy\n"
     ]
    }
   ],
   "source": [
    "gc1.showname1()"
   ]
  },
  {
   "cell_type": "code",
   "execution_count": 64,
   "id": "19159fa6-3bac-4004-84c9-18975b7978e4",
   "metadata": {},
   "outputs": [
    {
     "name": "stdout",
     "output_type": "stream",
     "text": [
      "the name 2 is  gangadhar\n"
     ]
    }
   ],
   "source": [
    "gc1.showname2()"
   ]
  },
  {
   "cell_type": "code",
   "execution_count": 65,
   "id": "1bd557ea-9bab-4f8f-a0b7-42873d0c54f1",
   "metadata": {},
   "outputs": [
    {
     "name": "stdout",
     "output_type": "stream",
     "text": [
      "the name 3 is  shashank\n"
     ]
    }
   ],
   "source": [
    "gc1.showname3()"
   ]
  },
  {
   "cell_type": "code",
   "execution_count": 66,
   "id": "2b1381d8-f7de-43f5-ae0a-678f89aa1b70",
   "metadata": {},
   "outputs": [],
   "source": [
    "p1=parent()"
   ]
  },
  {
   "cell_type": "code",
   "execution_count": 67,
   "id": "72d9847d-1fde-4b2b-9d41-602a09028dab",
   "metadata": {},
   "outputs": [],
   "source": [
    "p1.assignname2(\"gangadhar\")"
   ]
  },
  {
   "cell_type": "code",
   "execution_count": 68,
   "id": "c2018264-d679-43a1-bade-22856237a5a8",
   "metadata": {},
   "outputs": [],
   "source": [
    "p1.assignname1(\"krishna\")"
   ]
  },
  {
   "cell_type": "code",
   "execution_count": 70,
   "id": "fbd6bb85-9daa-42e8-89b2-21299925ac98",
   "metadata": {},
   "outputs": [
    {
     "ename": "AttributeError",
     "evalue": "'parent' object has no attribute 'assignname3'",
     "output_type": "error",
     "traceback": [
      "\u001b[0;31m---------------------------------------------------------------------------\u001b[0m",
      "\u001b[0;31mAttributeError\u001b[0m                            Traceback (most recent call last)",
      "Cell \u001b[0;32mIn[70], line 2\u001b[0m\n\u001b[1;32m      1\u001b[0m \u001b[38;5;66;03m#because object doesnt inherit from grandchild\u001b[39;00m\n\u001b[0;32m----> 2\u001b[0m p1\u001b[38;5;241m.\u001b[39massignname3(\u001b[38;5;124m\"\u001b[39m\u001b[38;5;124mshashank\u001b[39m\u001b[38;5;124m\"\u001b[39m)\n",
      "\u001b[0;31mAttributeError\u001b[0m: 'parent' object has no attribute 'assignname3'"
     ]
    }
   ],
   "source": [
    "#because object doesnt inherit from grandchild\n",
    "p1.assignname3(\"shashank\")"
   ]
  },
  {
   "cell_type": "code",
   "execution_count": null,
   "id": "ae82f487-9d23-4f93-952d-d58e87e0c539",
   "metadata": {},
   "outputs": [],
   "source": []
  }
 ],
 "metadata": {
  "kernelspec": {
   "display_name": "Python 3 (ipykernel)",
   "language": "python",
   "name": "python3"
  },
  "language_info": {
   "codemirror_mode": {
    "name": "ipython",
    "version": 3
   },
   "file_extension": ".py",
   "mimetype": "text/x-python",
   "name": "python",
   "nbconvert_exporter": "python",
   "pygments_lexer": "ipython3",
   "version": "3.11.7"
  }
 },
 "nbformat": 4,
 "nbformat_minor": 5
}
