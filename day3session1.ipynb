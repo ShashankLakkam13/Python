{
 "cells": [
  {
   "cell_type": "code",
   "execution_count": 3,
   "id": "2c3946fa-79c2-4feb-b169-935f3262cece",
   "metadata": {},
   "outputs": [
    {
     "name": "stdout",
     "output_type": "stream",
     "text": [
      "to work with  python open jupyter notebook\n",
      "to work with python open jupyter notebook\n",
      "to work with python open jupyter notebook\n"
     ]
    }
   ],
   "source": [
    "name1=\"python\"\n",
    "name2=\"open jupyter notebook\"\n",
    "print(\"to work with \",name1,name2)\n",
    "print(\"to work with {} {}\".format(name1,name2))\n",
    "print(f\"to work with {name1} {name2}\")"
   ]
  },
  {
   "cell_type": "code",
   "execution_count": 6,
   "id": "4ade29dc-e57f-4e4f-bec2-07f632cd80f3",
   "metadata": {},
   "outputs": [
    {
     "name": "stdout",
     "output_type": "stream",
     "text": [
      "python&hello\n"
     ]
    }
   ],
   "source": [
    "print(\"python\",end=\"&\")\n",
    "print(\"hello\")"
   ]
  },
  {
   "cell_type": "code",
   "execution_count": 8,
   "id": "5540536a-97c0-4f43-8c74-4c522bb71248",
   "metadata": {},
   "outputs": [
    {
     "name": "stdout",
     "output_type": "stream",
     "text": [
      "10 20 30\n"
     ]
    }
   ],
   "source": [
    "print(10 ,end= \" \")\n",
    "print(20 ,end =\" \")\n",
    "print(30)"
   ]
  },
  {
   "cell_type": "markdown",
   "id": "0e3394ef-b519-4af0-b41b-bfcbfc04b010",
   "metadata": {},
   "source": [
    "# Separator"
   ]
  },
  {
   "cell_type": "code",
   "execution_count": 9,
   "id": "101daf8e-bf9e-4e7b-b98b-553022ebad7e",
   "metadata": {},
   "outputs": [
    {
     "name": "stdout",
     "output_type": "stream",
     "text": [
      "10,20,30\n"
     ]
    }
   ],
   "source": [
    "print(10,20,30, sep=\",\")"
   ]
  },
  {
   "cell_type": "code",
   "execution_count": null,
   "id": "121e8bab-235b-42ac-8c13-5c33696135fb",
   "metadata": {},
   "outputs": [],
   "source": []
  }
 ],
 "metadata": {
  "kernelspec": {
   "display_name": "Python 3 (ipykernel)",
   "language": "python",
   "name": "python3"
  },
  "language_info": {
   "codemirror_mode": {
    "name": "ipython",
    "version": 3
   },
   "file_extension": ".py",
   "mimetype": "text/x-python",
   "name": "python",
   "nbconvert_exporter": "python",
   "pygments_lexer": "ipython3",
   "version": "3.11.7"
  }
 },
 "nbformat": 4,
 "nbformat_minor": 5
}
