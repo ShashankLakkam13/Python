{
 "cells": [
  {
   "cell_type": "markdown",
   "id": "f261f018-c9f7-41b4-a9c4-50a3119e71bb",
   "metadata": {},
   "source": [
    "print the items which are having length greater than 3"
   ]
  },
  {
   "cell_type": "code",
   "execution_count": 6,
   "id": "028bca07-7490-4555-9f24-540a9499cf36",
   "metadata": {},
   "outputs": [
    {
     "name": "stdout",
     "output_type": "stream",
     "text": [
      "hyd\n",
      "blr\n"
     ]
    }
   ],
   "source": [
    "l1=[\"hyd\",\"mumbai\",\"chennai\",\"blr\"]\n",
    "for i in l1:\n",
    "    if len(i)<4:\n",
    "        print(i)"
   ]
  },
  {
   "cell_type": "code",
   "execution_count": 9,
   "id": "40c66044-a387-4418-8b07-15c344fd28bc",
   "metadata": {},
   "outputs": [
    {
     "name": "stdout",
     "output_type": "stream",
     "text": [
      "Hyd\n",
      "Mumbai\n",
      "Chennai\n",
      "Blr\n"
     ]
    }
   ],
   "source": [
    "l1=[\"hyd\",\"mumbai\",\"chennai\",\"blr\"]\n",
    "for i in l1:\n",
    "    print(i.capitalize())"
   ]
  },
  {
   "cell_type": "code",
   "execution_count": 11,
   "id": "b046d631-5b70-4565-bac2-b79050e5f540",
   "metadata": {},
   "outputs": [
    {
     "name": "stdout",
     "output_type": "stream",
     "text": [
      "HYD\n",
      "MUMBAI\n",
      "CHENNAI\n",
      "BLR\n"
     ]
    }
   ],
   "source": [
    "l1=[\"hyd\",\"mumbai\",\"chennai\",\"blr\"]\n",
    "for i in l1:\n",
    "    print(i.upper())"
   ]
  },
  {
   "cell_type": "code",
   "execution_count": 12,
   "id": "7d3407d1-2890-46de-8381-9470b0ea7f84",
   "metadata": {},
   "outputs": [
    {
     "name": "stdout",
     "output_type": "stream",
     "text": [
      "mu#bai\n",
      "che#nai\n"
     ]
    }
   ],
   "source": [
    "l1=[\"hyd\",\"mu#bai\",\"che#nai\",\"blr\"]\n",
    "for i in l1:\n",
    "    if \"#\" in i:\n",
    "        print(i)"
   ]
  },
  {
   "cell_type": "code",
   "execution_count": 79,
   "id": "d5baa947-de0a-4c3b-bcdc-fea5f06f7906",
   "metadata": {},
   "outputs": [
    {
     "ename": "TypeError",
     "evalue": "can only concatenate list (not \"int\") to list",
     "output_type": "error",
     "traceback": [
      "\u001b[0;31m---------------------------------------------------------------------------\u001b[0m",
      "\u001b[0;31mTypeError\u001b[0m                                 Traceback (most recent call last)",
      "Cell \u001b[0;32mIn[79], line 8\u001b[0m\n\u001b[1;32m      6\u001b[0m     \u001b[38;5;28;01mif\u001b[39;00m i \u001b[38;5;129;01mnot\u001b[39;00m \u001b[38;5;129;01min\u001b[39;00m s2:\n\u001b[1;32m      7\u001b[0m         s2\u001b[38;5;241m.\u001b[39mappend(i)\n\u001b[0;32m----> 8\u001b[0m         count[i]\u001b[38;5;241m=\u001b[39mcount\u001b[38;5;241m+\u001b[39m\u001b[38;5;241m1\u001b[39m\n\u001b[1;32m      9\u001b[0m \u001b[38;5;28mprint\u001b[39m(s2)\n",
      "\u001b[0;31mTypeError\u001b[0m: can only concatenate list (not \"int\") to list"
     ]
    }
   ],
   "source": [
    "#print max repeated word in the sentence\n",
    "s1=\"can canner can you can but you can not canner\"\n",
    "s2=[]\n",
    "count=0\n",
    "for i in s1.split(\" \"):\n",
    "    if i not in s2:\n",
    "        s2.append(i)\n",
    "        count=count+1\n",
    "print(s2)"
   ]
  },
  {
   "cell_type": "code",
   "execution_count": 40,
   "id": "ab684629-720c-4fc2-9465-79fc047bd4e6",
   "metadata": {},
   "outputs": [
    {
     "name": "stdout",
     "output_type": "stream",
     "text": [
      "pm of india\n"
     ]
    },
    {
     "name": "stdin",
     "output_type": "stream",
     "text": [
      "enter the answer: modi\n"
     ]
    },
    {
     "name": "stdout",
     "output_type": "stream",
     "text": [
      "caption of india\n"
     ]
    },
    {
     "name": "stdin",
     "output_type": "stream",
     "text": [
      "enter the answer: rohit\n"
     ]
    },
    {
     "name": "stdout",
     "output_type": "stream",
     "text": [
      "states in india\n"
     ]
    },
    {
     "name": "stdin",
     "output_type": "stream",
     "text": [
      "enter the answer: 29\n"
     ]
    },
    {
     "name": "stdout",
     "output_type": "stream",
     "text": [
      "trophies for rcb\n"
     ]
    },
    {
     "name": "stdin",
     "output_type": "stream",
     "text": [
      "enter the answer: 0\n"
     ]
    },
    {
     "name": "stdout",
     "output_type": "stream",
     "text": [
      "4\n"
     ]
    }
   ],
   "source": [
    "ques=[\"pm of india\",\"caption of india\",\"states in india\",\"trophies for rcb\"]\n",
    "ans=[\"modi\",\"rohit\",\"29\",\"0\"]\n",
    "marks=0\n",
    "for i in range(len(ques)):\n",
    "    print(ques[i])\n",
    "    answer=input(\"enter the answer:\")\n",
    "    answer.casefold()==ans[i].casefold()\n",
    "    marks=marks+1\n",
    "print(marks)"
   ]
  },
  {
   "cell_type": "code",
   "execution_count": 43,
   "id": "27901142-fe01-4b5e-91f3-f86643adec6c",
   "metadata": {},
   "outputs": [
    {
     "name": "stdout",
     "output_type": "stream",
     "text": [
      "pm of india\n"
     ]
    },
    {
     "name": "stdin",
     "output_type": "stream",
     "text": [
      "enter the answer: modi\n"
     ]
    },
    {
     "name": "stdout",
     "output_type": "stream",
     "text": [
      "caption of india\n"
     ]
    },
    {
     "name": "stdin",
     "output_type": "stream",
     "text": [
      "enter the answer: rohit\n"
     ]
    },
    {
     "name": "stdout",
     "output_type": "stream",
     "text": [
      "states in india\n"
     ]
    },
    {
     "name": "stdin",
     "output_type": "stream",
     "text": [
      "enter the answer: 29\n"
     ]
    },
    {
     "name": "stdout",
     "output_type": "stream",
     "text": [
      "trophies for rcb\n"
     ]
    },
    {
     "name": "stdin",
     "output_type": "stream",
     "text": [
      "enter the answer: 0\n"
     ]
    },
    {
     "name": "stdout",
     "output_type": "stream",
     "text": [
      "4\n"
     ]
    }
   ],
   "source": [
    "ques=[\"pm of india\",\"caption of india\",\"states in india\",\"trophies for rcb\"]\n",
    "ans=[\"modi\",\"rohit\",29,0]\n",
    "marks=0\n",
    "for i in range(len(ques)):\n",
    "    print(ques[i])\n",
    "    answer=input(\"enter the answer:\")\n",
    "    if answer.isdigit():\n",
    "        if int(answer) ==ans[i]:\n",
    "            marks=marks+1\n",
    "    else:\n",
    "        answer.casefold()==ans[i].casefold()\n",
    "        marks=marks+1\n",
    "print(marks)\n",
    "    "
   ]
  },
  {
   "cell_type": "markdown",
   "id": "dedb5c71-e21f-48af-b7fa-719c75fe768f",
   "metadata": {},
   "source": [
    "#Concatination\n",
    "\n",
    "#Lists can be concatinated"
   ]
  },
  {
   "cell_type": "code",
   "execution_count": 44,
   "id": "8888e17d-fee4-4774-8b0e-58bcf8b941ba",
   "metadata": {},
   "outputs": [
    {
     "name": "stdout",
     "output_type": "stream",
     "text": [
      "[1, 2, 3, 4, 100, 200, 300, 400]\n"
     ]
    }
   ],
   "source": [
    "l1=[1,2,3,4]\n",
    "l2=[100,200,300,400]\n",
    "l3=l1+l2\n",
    "print(l3)"
   ]
  },
  {
   "cell_type": "code",
   "execution_count": 45,
   "id": "166ca3eb-1df2-479d-82c7-3ae94729ac41",
   "metadata": {},
   "outputs": [],
   "source": [
    "#scalar multiplication works"
   ]
  },
  {
   "cell_type": "code",
   "execution_count": 46,
   "id": "d40c5115-9075-4b8a-81e0-1bfbea5abc2a",
   "metadata": {},
   "outputs": [
    {
     "name": "stdout",
     "output_type": "stream",
     "text": [
      "[1, 2, 3, 4, 1, 2, 3, 4]\n"
     ]
    }
   ],
   "source": [
    "print(l1*2)"
   ]
  },
  {
   "cell_type": "markdown",
   "id": "ce2aabe9-2400-4df1-8316-c74028c8dc02",
   "metadata": {},
   "source": [
    "**l1*l1**\n",
    "**l1+l2**\n",
    "**l1//l2**\n",
    "\n",
    "all the above will fail for lists"
   ]
  },
  {
   "cell_type": "code",
   "execution_count": 47,
   "id": "8211982b-4533-4ee9-9bcf-e41fa77c4991",
   "metadata": {},
   "outputs": [],
   "source": [
    "#lists are mutable"
   ]
  },
  {
   "cell_type": "code",
   "execution_count": 48,
   "id": "748a3cc7-b557-4fa2-ba48-5b15f9849095",
   "metadata": {},
   "outputs": [],
   "source": [
    "l1=[0,1,2,3,4]\n"
   ]
  },
  {
   "cell_type": "code",
   "execution_count": 49,
   "id": "1a21723a-bd18-4119-98f0-3eec70bb9dda",
   "metadata": {},
   "outputs": [],
   "source": [
    "l1[1]=100"
   ]
  },
  {
   "cell_type": "code",
   "execution_count": 50,
   "id": "96ac6042-2a31-4368-b8f8-17afbdb6fe4d",
   "metadata": {},
   "outputs": [
    {
     "name": "stdout",
     "output_type": "stream",
     "text": [
      "[0, 100, 2, 3, 4]\n"
     ]
    }
   ],
   "source": [
    "print(l1)"
   ]
  },
  {
   "cell_type": "code",
   "execution_count": 51,
   "id": "55b956f8-7ee4-4aa5-8308-ca2164d93b57",
   "metadata": {},
   "outputs": [],
   "source": [
    "#List methods"
   ]
  },
  {
   "cell_type": "code",
   "execution_count": 53,
   "id": "d8469e9d-ab35-42c6-9d3c-79dc409800d2",
   "metadata": {},
   "outputs": [
    {
     "data": {
      "text/plain": [
       "['__add__',\n",
       " '__class__',\n",
       " '__class_getitem__',\n",
       " '__contains__',\n",
       " '__delattr__',\n",
       " '__delitem__',\n",
       " '__dir__',\n",
       " '__doc__',\n",
       " '__eq__',\n",
       " '__format__',\n",
       " '__ge__',\n",
       " '__getattribute__',\n",
       " '__getitem__',\n",
       " '__getstate__',\n",
       " '__gt__',\n",
       " '__hash__',\n",
       " '__iadd__',\n",
       " '__imul__',\n",
       " '__init__',\n",
       " '__init_subclass__',\n",
       " '__iter__',\n",
       " '__le__',\n",
       " '__len__',\n",
       " '__lt__',\n",
       " '__mul__',\n",
       " '__ne__',\n",
       " '__new__',\n",
       " '__reduce__',\n",
       " '__reduce_ex__',\n",
       " '__repr__',\n",
       " '__reversed__',\n",
       " '__rmul__',\n",
       " '__setattr__',\n",
       " '__setitem__',\n",
       " '__sizeof__',\n",
       " '__str__',\n",
       " '__subclasshook__',\n",
       " 'append',\n",
       " 'clear',\n",
       " 'copy',\n",
       " 'count',\n",
       " 'extend',\n",
       " 'index',\n",
       " 'insert',\n",
       " 'pop',\n",
       " 'remove',\n",
       " 'reverse',\n",
       " 'sort']"
      ]
     },
     "execution_count": 53,
     "metadata": {},
     "output_type": "execute_result"
    }
   ],
   "source": [
    "dir(list())"
   ]
  },
  {
   "cell_type": "code",
   "execution_count": 62,
   "id": "6b9194f7-3316-4c74-95ee-0ae3d22ebcf0",
   "metadata": {},
   "outputs": [],
   "source": [
    "#Append method\n",
    "#it will add object at end of list\n",
    "# and list will be over ridden or updated\n",
    "# Mainly append is used to store the results\n",
    "#with append method we can store output in list"
   ]
  },
  {
   "cell_type": "code",
   "execution_count": 56,
   "id": "6e0f3b71-5ff9-46ea-8920-671a1f2a5662",
   "metadata": {},
   "outputs": [],
   "source": [
    "l1=[1,2,3]"
   ]
  },
  {
   "cell_type": "code",
   "execution_count": 57,
   "id": "3fa33dcf-a7cd-43c7-93a0-26452800211a",
   "metadata": {},
   "outputs": [],
   "source": [
    "l1.append(100)"
   ]
  },
  {
   "cell_type": "code",
   "execution_count": 58,
   "id": "3b2831d7-8d71-4948-91c6-6bcd1026c36f",
   "metadata": {},
   "outputs": [
    {
     "name": "stdout",
     "output_type": "stream",
     "text": [
      "[1, 2, 3, 100]\n"
     ]
    }
   ],
   "source": [
    "print(l1)"
   ]
  },
  {
   "cell_type": "code",
   "execution_count": 63,
   "id": "a6492085-6f22-4e32-8198-f0a097c8b534",
   "metadata": {},
   "outputs": [],
   "source": [
    "l=[]\n",
    "l.append(100)"
   ]
  },
  {
   "cell_type": "code",
   "execution_count": 64,
   "id": "0bc17940-3fe5-45df-b2c2-4941df777ca8",
   "metadata": {},
   "outputs": [],
   "source": [
    "l.append(200)"
   ]
  },
  {
   "cell_type": "code",
   "execution_count": 65,
   "id": "22c0bb64-6ccb-404e-ac0b-a6d4e39963fe",
   "metadata": {},
   "outputs": [],
   "source": [
    "l.append(\"apple\")"
   ]
  },
  {
   "cell_type": "code",
   "execution_count": 66,
   "id": "fb654475-0c13-4691-97d4-f96e6be87818",
   "metadata": {},
   "outputs": [],
   "source": [
    "l.append([1,2,3])"
   ]
  },
  {
   "cell_type": "code",
   "execution_count": 67,
   "id": "e126f324-3507-4e0b-93a9-98dae35f604b",
   "metadata": {},
   "outputs": [
    {
     "name": "stdout",
     "output_type": "stream",
     "text": [
      "[100, 200, 'apple', [1, 2, 3]]\n"
     ]
    }
   ],
   "source": [
    "print(l)"
   ]
  },
  {
   "cell_type": "code",
   "execution_count": 69,
   "id": "907488ac-befc-4fb1-bf65-f939e0b4a3ad",
   "metadata": {},
   "outputs": [
    {
     "data": {
      "text/plain": [
       "[0, 1, 2, 3, 4, 5, 6, 7, 8, 9]"
      ]
     },
     "execution_count": 69,
     "metadata": {},
     "output_type": "execute_result"
    }
   ],
   "source": [
    "#save the outputs\n",
    "p=[]\n",
    "for i in range(10):\n",
    "    p.append(i)\n",
    "p"
   ]
  },
  {
   "cell_type": "code",
   "execution_count": 70,
   "id": "29e46e78-0c94-4e77-bce7-2331fb452a76",
   "metadata": {},
   "outputs": [
    {
     "data": {
      "text/plain": [
       "[0, 1, 4, 9, 16, 25, 36, 49, 64, 81]"
      ]
     },
     "execution_count": 70,
     "metadata": {},
     "output_type": "execute_result"
    }
   ],
   "source": [
    "p=[]\n",
    "for i in range(10):\n",
    "    p.append(i*i)\n",
    "p"
   ]
  },
  {
   "cell_type": "code",
   "execution_count": 71,
   "id": "ddb16ab7-279a-45e5-b445-d23d570e7451",
   "metadata": {},
   "outputs": [
    {
     "name": "stdout",
     "output_type": "stream",
     "text": [
      "['hyd', 'blr']\n"
     ]
    }
   ],
   "source": [
    "l1=[\"hyd\",\"mumbai\",\"chennai\",\"blr\"]\n",
    "l2=[]\n",
    "for i in l1:\n",
    "    if len(i)<4:\n",
    "        l2.append(i)\n",
    "print(l2)"
   ]
  },
  {
   "cell_type": "code",
   "execution_count": 72,
   "id": "f7ba9799-0380-4278-a1e8-d09746626e99",
   "metadata": {},
   "outputs": [
    {
     "name": "stdout",
     "output_type": "stream",
     "text": [
      "['mu#bai', 'che#nai']\n"
     ]
    }
   ],
   "source": [
    "l1=[\"hyd\",\"mu#bai\",\"che#nai\",\"blr\"]\n",
    "l2=[]\n",
    "for i in l1:\n",
    "    if \"#\" in i:\n",
    "        l2.append(i)\n",
    "print(l2)"
   ]
  },
  {
   "cell_type": "code",
   "execution_count": 73,
   "id": "e1d847c2-dce3-46f5-b665-dcdb06059d2b",
   "metadata": {},
   "outputs": [
    {
     "name": "stdin",
     "output_type": "stream",
     "text": [
      "enter the number: 2\n",
      "enter the number: 3\n",
      "enter the number: 4\n",
      "enter the number: 5\n",
      "enter the number: 6\n",
      "enter the number: 7\n",
      "enter the number: 8\n",
      "enter the number: 9\n",
      "enter the number: 1\n",
      "enter the number: 12\n",
      "enter the number: 12\n"
     ]
    },
    {
     "name": "stdout",
     "output_type": "stream",
     "text": [
      "[0, 2, 4, 6, 9, 10]\n",
      "[1, 3, 5, 7, 8]\n"
     ]
    }
   ],
   "source": [
    "even=[]\n",
    "odd=[]\n",
    "for i in range(11):\n",
    "    num=int(input(\"enter the number:\"))\n",
    "    if(num%2==0):\n",
    "        even.append(i)\n",
    "    else:\n",
    "        odd.append(i)\n",
    "print(even)\n",
    "print(odd)\n",
    "        "
   ]
  },
  {
   "cell_type": "code",
   "execution_count": 1,
   "id": "b560ffd9-4dc6-4d12-8def-c4dd9bd5ecde",
   "metadata": {},
   "outputs": [
    {
     "data": {
      "text/plain": [
       "<reversed at 0x1130e9f90>"
      ]
     },
     "execution_count": 1,
     "metadata": {},
     "output_type": "execute_result"
    }
   ],
   "source": [
    "name=\"python\"\n",
    "reversed(name)\n",
    "sorted()"
   ]
  },
  {
   "cell_type": "code",
   "execution_count": 2,
   "id": "53e1b880-42ab-4fbc-8525-76f9da1cc72c",
   "metadata": {},
   "outputs": [
    {
     "name": "stdout",
     "output_type": "stream",
     "text": [
      "0\n",
      "1\n",
      "2\n",
      "3\n",
      "4\n",
      "5\n",
      "6\n",
      "7\n",
      "8\n",
      "9\n",
      "10\n",
      "11\n",
      "12\n",
      "13\n",
      "p\n",
      "y\n",
      "t\n",
      "h\n",
      "o\n",
      "n\n",
      " \n",
      "i\n",
      "s\n",
      " \n",
      "g\n",
      "o\n",
      "o\n",
      "d\n"
     ]
    }
   ],
   "source": [
    "name='python is good'\n",
    "for i in range(len(name)):\n",
    "    print(i)\n",
    "\n",
    "for i in name:\n",
    "    print(i)"
   ]
  },
  {
   "cell_type": "code",
   "execution_count": 1,
   "id": "a8bda878-e703-431f-a706-bfc439ef1a3d",
   "metadata": {},
   "outputs": [
    {
     "name": "stdout",
     "output_type": "stream",
     "text": [
      "3\n"
     ]
    }
   ],
   "source": [
    "str1 = \"ola ola ola\"\n",
    "temp = \"\"\n",
    "count = 0\n",
    "for i in str1:\n",
    "    if i != \" \":\n",
    "        temp += i\n",
    "        if(temp == \"ola\"):\n",
    "            count +=1\n",
    "            temp = \"\"\n",
    "\n",
    "print(count)"
   ]
  },
  {
   "cell_type": "code",
   "execution_count": null,
   "id": "2fac219d-9dd1-433d-9b1e-94e4278a6250",
   "metadata": {},
   "outputs": [],
   "source": []
  }
 ],
 "metadata": {
  "kernelspec": {
   "display_name": "Python 3 (ipykernel)",
   "language": "python",
   "name": "python3"
  },
  "language_info": {
   "codemirror_mode": {
    "name": "ipython",
    "version": 3
   },
   "file_extension": ".py",
   "mimetype": "text/x-python",
   "name": "python",
   "nbconvert_exporter": "python",
   "pygments_lexer": "ipython3",
   "version": "3.11.7"
  }
 },
 "nbformat": 4,
 "nbformat_minor": 5
}
