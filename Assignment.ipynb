{
 "cells": [
  {
   "cell_type": "markdown",
   "id": "a1d93bdf-82c8-4dc2-8d0d-817e0712d81b",
   "metadata": {},
   "source": [
    "1. Ask the user to enter a number. Print out the square of the number,\n",
    "Sample output is shown below.\n",
    "\n",
    "Enter a\n",
    "number: 5 The\n",
    "square of 5 is 25.\n",
    "2. Ask the user to enter a number x. print out x, 2x, 3x, 4x, and 5x,\n",
    "each separated by three dashes, like below.\n",
    "Enter a number: 7\n",
    "7---14---21---28---35\n",
    "3. Write a program that asks the user for a weight in kilograms and\n",
    "converts it to pounds. There are 2.2 pounds in a kilogram.\n",
    "\n",
    "4. Write a program that asks the user to enter three numbers (use three\n",
    "separate input statements).Create variables called total and average\n",
    "that hold the sum and average of the three numbers and print out the\n",
    "values of total and average.\n",
    "5. A lot of cell phones have tip calculators. Write one. Ask the user for\n",
    "the price of the meal and the percent tip they want to leave. Then\n",
    "print both the tip amount and the total bill with the tip included."
   ]
  },
  {
   "cell_type": "code",
   "execution_count": 1,
   "id": "d764e53f-902a-42fa-8db3-8ab4bf7a6988",
   "metadata": {},
   "outputs": [
    {
     "name": "stdin",
     "output_type": "stream",
     "text": [
      "enter number: 2\n"
     ]
    },
    {
     "name": "stdout",
     "output_type": "stream",
     "text": [
      "4\n"
     ]
    }
   ],
   "source": [
    "#without arguments\n",
    "#Ask the user to enter a number. Print out the square of the number, Sample output is shown below.\n",
    "def square():\n",
    "    n1=eval(input(\"enter number:\"))\n",
    "    print(n1*n1)\n",
    "square()\n",
    "\n"
   ]
  },
  {
   "cell_type": "code",
   "execution_count": 3,
   "id": "248faf29-fba9-46bc-bb05-b323a230570b",
   "metadata": {},
   "outputs": [
    {
     "name": "stdout",
     "output_type": "stream",
     "text": [
      "36\n"
     ]
    }
   ],
   "source": [
    "#with arguments\n",
    "def square1(x):\n",
    "    print(x*x)\n",
    "\n",
    "square1(6)\n",
    "    "
   ]
  },
  {
   "cell_type": "code",
   "execution_count": 11,
   "id": "bc6f7dc3-34cd-4fe8-862c-903f6e053215",
   "metadata": {},
   "outputs": [
    {
     "data": {
      "text/plain": [
       "49"
      ]
     },
     "execution_count": 11,
     "metadata": {},
     "output_type": "execute_result"
    }
   ],
   "source": [
    "#with return\n",
    "def square1(x):\n",
    "    return x*x\n",
    "\n",
    "square1(7)"
   ]
  },
  {
   "cell_type": "code",
   "execution_count": 4,
   "id": "1b940091-720e-49b6-8e98-726bb124cfa3",
   "metadata": {},
   "outputs": [
    {
     "name": "stdin",
     "output_type": "stream",
     "text": [
      "enter the number: 4\n"
     ]
    },
    {
     "name": "stdout",
     "output_type": "stream",
     "text": [
      "4----8----12----16----20\n"
     ]
    }
   ],
   "source": [
    "# without arguments\n",
    "#2. Ask the user to enter a number x. print out x, 2x, 3x, 4x, and 5x, each separated by three dashes, like below. Enter a number:\n",
    "def printvalues():\n",
    "    n1=eval(input(\"enter the number:\"))\n",
    "    print(f\"{n1}----{n1*2}----{n1*3}----{n1*4}----{n1*5}\")\n",
    "printvalues()"
   ]
  },
  {
   "cell_type": "code",
   "execution_count": 8,
   "id": "3fd13cdf-88e5-4809-9e1e-10abce914b01",
   "metadata": {},
   "outputs": [
    {
     "name": "stdout",
     "output_type": "stream",
     "text": [
      "5----10----15----20----25\n"
     ]
    }
   ],
   "source": [
    "#with arguments\n",
    "def printvalues1(n1):\n",
    "    print(f\"{n1}----{n1*2}----{n1*3}----{n1*4}----{n1*5}\")\n",
    "printvalues1(5)"
   ]
  },
  {
   "cell_type": "code",
   "execution_count": 12,
   "id": "dad5fa5c-0f72-43d5-8ba2-d5798bff1378",
   "metadata": {},
   "outputs": [
    {
     "name": "stdout",
     "output_type": "stream",
     "text": [
      "5----10----15----20----25\n"
     ]
    }
   ],
   "source": [
    "#with return\n",
    "def printvalues1(n1):\n",
    "    values=print(f\"{n1}----{n1*2}----{n1*3}----{n1*4}----{n1*5}\")\n",
    "    return values\n",
    "printvalues1(5)"
   ]
  },
  {
   "cell_type": "code",
   "execution_count": 13,
   "id": "89e17f13-790a-4746-a279-1249bd851cc9",
   "metadata": {},
   "outputs": [
    {
     "name": "stdin",
     "output_type": "stream",
     "text": [
      "enetr the weight in kg 45\n"
     ]
    },
    {
     "name": "stdout",
     "output_type": "stream",
     "text": [
      "99.00000000000001\n"
     ]
    }
   ],
   "source": [
    "#without arguments\n",
    "#Write a program that asks the user for a weight in kilograms and converts it to pounds. There are 2.2 pounds in a kilogram.\n",
    "def kgtopounds():\n",
    "    kg=eval(input(\"enetr the weight in kg\"))\n",
    "    pounds=kg*2.2\n",
    "    print(pounds)\n",
    "\n",
    "kgtopounds()"
   ]
  },
  {
   "cell_type": "code",
   "execution_count": 14,
   "id": "eeb54950-3669-40eb-b7c5-41cb5f60d3f7",
   "metadata": {},
   "outputs": [
    {
     "name": "stdout",
     "output_type": "stream",
     "text": [
      "154.0\n"
     ]
    }
   ],
   "source": [
    "#with arguments\n",
    "def kgtopounds2(kg):\n",
    "    pounds=kg*2.2\n",
    "    print(pounds)\n",
    "\n",
    "kgtopounds2(70)"
   ]
  },
  {
   "cell_type": "code",
   "execution_count": 15,
   "id": "51e2db08-1dda-4202-ade8-7f5cbc4b1002",
   "metadata": {},
   "outputs": [
    {
     "data": {
      "text/plain": [
       "154.0"
      ]
     },
     "execution_count": 15,
     "metadata": {},
     "output_type": "execute_result"
    }
   ],
   "source": [
    "#with return\n",
    "def kgtopounds3(kg):\n",
    "    pounds=kg*2.2\n",
    "    return pounds\n",
    "\n",
    "kgtopounds3(70)"
   ]
  },
  {
   "cell_type": "code",
   "execution_count": 19,
   "id": "246872c1-193d-4019-9ee7-43b0f93ae03f",
   "metadata": {},
   "outputs": [
    {
     "name": "stdin",
     "output_type": "stream",
     "text": [
      "Enter var1 : 3\n",
      "Enter var2 : 4\n",
      "Enter var3 : 5\n"
     ]
    },
    {
     "name": "stdout",
     "output_type": "stream",
     "text": [
      "the sum of 3 numbers is 12\n",
      "The average of 3 numbers is 4.0\n"
     ]
    }
   ],
   "source": [
    "#without arguments\n",
    "#Write a program that asks the user to enter three numbers (use three separate input statements).Create variables called total and average that hold the sum and average of the three numbers and print out the values of total and average.\n",
    "def sumandaverage():\n",
    "    var1=eval(input(\"Enter var1 :\" ));\n",
    "    var2=eval(input(\"Enter var2 :\" ));\n",
    "    var3=eval(input(\"Enter var3 :\" ));\n",
    "    sum=var1+var2+var3\n",
    "    Average=sum/3\n",
    "    print(f\"the sum of 3 numbers is {sum}\")\n",
    "    print(f\"The average of 3 numbers is {Average}\")\n",
    "sumandaverage()"
   ]
  },
  {
   "cell_type": "code",
   "execution_count": 18,
   "id": "b115d860-683f-469e-9603-7d46ab475ec4",
   "metadata": {},
   "outputs": [
    {
     "name": "stdout",
     "output_type": "stream",
     "text": [
      "the sum of 3 numbers is 9\n",
      "The average of 3 numbers is 3.0\n"
     ]
    }
   ],
   "source": [
    "#with arguments\n",
    "def sumandaverage2(n1,n2,n3):\n",
    "    sum=n1+n2+n3\n",
    "    Average=sum/3\n",
    "    print(f\"the sum of 3 numbers is {sum}\")\n",
    "    print(f\"The average of 3 numbers is {Average}\")\n",
    "sumandaverage2(2,3,4)"
   ]
  },
  {
   "cell_type": "code",
   "execution_count": 29,
   "id": "985805e6-fdcf-4f0b-8e1d-06ebb8380bb3",
   "metadata": {},
   "outputs": [
    {
     "name": "stdout",
     "output_type": "stream",
     "text": [
      "sum is 9\n",
      "average is 3.0\n"
     ]
    }
   ],
   "source": [
    "#with return \n",
    "def sumandaverage3(n1,n2,n3):\n",
    "    sum=n1+n2+n3\n",
    "    Average=sum/3\n",
    "    return (sum,Average)\n",
    "sum,average=sumandaverage3(2,3,4)\n",
    "print(f\"sum is {sum}\")\n",
    "print(f\"average is {average}\")"
   ]
  },
  {
   "cell_type": "code",
   "execution_count": 22,
   "id": "7463de56-bb82-4d3d-91ff-8062b4eb6ade",
   "metadata": {},
   "outputs": [
    {
     "name": "stdin",
     "output_type": "stream",
     "text": [
      "enter the price of meal: 34\n",
      "enter the tip percentage 5\n"
     ]
    },
    {
     "name": "stdout",
     "output_type": "stream",
     "text": [
      "the tip is 1.7000000000000002\n",
      "the total price of meal with tip is35.7\n"
     ]
    }
   ],
   "source": [
    "#A lot of cell phones have tip calculators. Write one. Ask the user for the price of the meal and the percent tip they want to leave. Then print both the tip amount and the total bill with the tip included.\n",
    "def tip():\n",
    "    priceofmeal=eval(input(\"enter the price of meal:\"))\n",
    "    tippercent=eval(input(\"enter the tip percentage\"))\n",
    "    tip=(tippercent/100)*priceofmeal;\n",
    "    totalprice=priceofmeal+tip;\n",
    "    print(f\"the tip is {tip}\")\n",
    "    print(f\"the total price of meal with tip is{totalprice}\")\n",
    "tip()"
   ]
  },
  {
   "cell_type": "code",
   "execution_count": 26,
   "id": "480f7010-1484-480d-aa37-0a79151bf561",
   "metadata": {},
   "outputs": [
    {
     "name": "stdout",
     "output_type": "stream",
     "text": [
      "the tip is 3.0\n",
      "the total price of meal with tip is103.0\n"
     ]
    }
   ],
   "source": [
    "def tip1(priceofmeal,tippercent):\n",
    "    tip=(tippercent/100)*priceofmeal;\n",
    "    totalprice=priceofmeal+tip;\n",
    "    print(f\"the tip is {tip}\")\n",
    "    print(f\"the total price of meal with tip is{totalprice}\")\n",
    "    \n",
    "tip1(100,3)"
   ]
  },
  {
   "cell_type": "code",
   "execution_count": 31,
   "id": "4b0c1604-0b97-413f-9b8d-5b9f8f127ec6",
   "metadata": {},
   "outputs": [
    {
     "name": "stdout",
     "output_type": "stream",
     "text": [
      "the tip is 3.0 and totalprice is103.0\n"
     ]
    }
   ],
   "source": [
    "#with return\n",
    "def tip1(priceofmeal,tippercent):\n",
    "    tip=(tippercent/100)*priceofmeal;\n",
    "    totalprice=priceofmeal+tip;\n",
    "    return(tip,totalprice)\n",
    "    \n",
    "tip,totalprice=tip1(100,3)\n",
    "print(f\"the tip is {tip} and totalprice is{totalprice}\")"
   ]
  },
  {
   "cell_type": "code",
   "execution_count": null,
   "id": "444c8b4b-2eb7-470f-8abc-2958bbc9dd14",
   "metadata": {},
   "outputs": [],
   "source": []
  }
 ],
 "metadata": {
  "kernelspec": {
   "display_name": "Python 3 (ipykernel)",
   "language": "python",
   "name": "python3"
  },
  "language_info": {
   "codemirror_mode": {
    "name": "ipython",
    "version": 3
   },
   "file_extension": ".py",
   "mimetype": "text/x-python",
   "name": "python",
   "nbconvert_exporter": "python",
   "pygments_lexer": "ipython3",
   "version": "3.11.7"
  }
 },
 "nbformat": 4,
 "nbformat_minor": 5
}
