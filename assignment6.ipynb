{
 "cells": [
  {
   "cell_type": "markdown",
   "id": "1619c12a-bd6e-4e85-ac7a-718bf3ad360d",
   "metadata": {},
   "source": [
    "# Q1) Print the postive index of each letter\n",
    "# Q2) Print the negative index of each letter\n",
    "# Q3) Print the postive and negative index of each letter\n",
    "# Q4) Wap ask to print the index of all 'a'  in a given string\n",
    "# Q5) Wap ask to print the number of 'a's  in a given string\n",
    "# Q6) Wap ask to print the sum of the index of all 'a'  in a given string\n",
    "# Q7) Wap to find the vowels in a given string\n",
    "# Q8) wap to find the number of vowels in a given string\n",
    "# Q9) wap to find the indexes of vowels in a given string\n",
    "# Q10) wap to find the sum of the indexes of vowels in a given string\n",
    "# Q11) wap to find the unique vowels in a given string\n",
    "# Q12) wap to find the number of 'ola'  in a given string 'ola ola ola'\n"
   ]
  },
  {
   "cell_type": "code",
   "execution_count": 5,
   "id": "57a18506-27bf-4065-9bdb-dc40cd044ae7",
   "metadata": {},
   "outputs": [
    {
     "name": "stdout",
     "output_type": "stream",
     "text": [
      "0 o 1 l 2 a 3   4 o 5 l 6 a 7   8 o 9 l 10 a "
     ]
    }
   ],
   "source": [
    "str=\"ola ola ola\"\n",
    "for i in range(len(str)):\n",
    "    print(i,str[i], end=\" \")"
   ]
  },
  {
   "cell_type": "code",
   "execution_count": 14,
   "id": "f932cb89-8d85-4aa9-bc3a-321faf6b3790",
   "metadata": {},
   "outputs": [
    {
     "name": "stdout",
     "output_type": "stream",
     "text": [
      "o\n",
      "l\n",
      "a\n",
      " \n",
      "o\n",
      "l\n",
      "a\n",
      " \n",
      "o\n",
      "l\n",
      "a\n"
     ]
    }
   ],
   "source": [
    "#with str\n",
    "for i in str:\n",
    "    print(i)"
   ]
  },
  {
   "cell_type": "code",
   "execution_count": 6,
   "id": "df6ffcb3-3b41-4666-b0b8-3cfbea9295a6",
   "metadata": {},
   "outputs": [
    {
     "name": "stdout",
     "output_type": "stream",
     "text": [
      "0 o\n",
      "1 l\n",
      "2 a\n",
      "3  \n",
      "4 o\n",
      "5 l\n",
      "6 a\n",
      "7  \n",
      "8 o\n",
      "9 l\n",
      "10 a\n"
     ]
    }
   ],
   "source": [
    "\n",
    "str=\"ola ola ola\"\n",
    "for i in range(len(str)):\n",
    "    print(i,str[i], sep=\" \")"
   ]
  },
  {
   "cell_type": "code",
   "execution_count": 9,
   "id": "5751bc62-1258-4cd7-bc34-6234df395c86",
   "metadata": {},
   "outputs": [
    {
     "name": "stdout",
     "output_type": "stream",
     "text": [
      "-11 o\n",
      "-10 l\n",
      "-9 a\n",
      "-8  \n",
      "-7 o\n",
      "-6 l\n",
      "-5 a\n",
      "-4  \n",
      "-3 o\n",
      "-2 l\n",
      "-1 a\n"
     ]
    }
   ],
   "source": [
    "str=\"ola ola ola\"\n",
    "for i in range(len(str)):\n",
    "    print((i-len(str)),str[i], sep=\" \")"
   ]
  },
  {
   "cell_type": "code",
   "execution_count": 20,
   "id": "37aa46d0-2894-4e47-97df-2dc0fddd6428",
   "metadata": {},
   "outputs": [
    {
     "name": "stdout",
     "output_type": "stream",
     "text": [
      "the positive index of o is 0\n",
      "the index index of o is -11\n",
      "the positive index of l is 1\n",
      "the index index of l is -10\n",
      "the positive index of a is 2\n",
      "the index index of a is -9\n",
      "the positive index of   is 3\n",
      "the index index of   is -8\n",
      "the positive index of o is 4\n",
      "the index index of o is -7\n",
      "the positive index of l is 5\n",
      "the index index of l is -6\n",
      "the positive index of a is 6\n",
      "the index index of a is -5\n",
      "the positive index of   is 7\n",
      "the index index of   is -4\n",
      "the positive index of o is 8\n",
      "the index index of o is -3\n",
      "the positive index of l is 9\n",
      "the index index of l is -2\n",
      "the positive index of a is 10\n",
      "the index index of a is -1\n"
     ]
    }
   ],
   "source": [
    "str=\"ola ola ola\"\n",
    "for i in range(len(str)):\n",
    "    print(f\"the positive index of {str[i]} is {i}\")\n",
    "    print(f\"the index index of {str[i]} is {i-len(str)}\")"
   ]
  },
  {
   "cell_type": "code",
   "execution_count": 23,
   "id": "7bcb5f43-3059-4b30-a729-1aa1486d81a3",
   "metadata": {},
   "outputs": [
    {
     "name": "stdout",
     "output_type": "stream",
     "text": [
      "the indexes of a are:\n",
      "2\n",
      "6\n",
      "10\n"
     ]
    }
   ],
   "source": [
    "str=\"ola ola ola\"\n",
    "print(\"the indexes of a are:\")\n",
    "for i in range(len(str)):\n",
    "    if(str[i]==\"a\"):\n",
    "        print(i)"
   ]
  },
  {
   "cell_type": "code",
   "execution_count": 25,
   "id": "c7cde15a-d897-4628-96b2-272c5a273743",
   "metadata": {},
   "outputs": [
    {
     "name": "stdout",
     "output_type": "stream",
     "text": [
      "the number of a are 3\n"
     ]
    }
   ],
   "source": [
    "str=\"ola ola ola\"\n",
    "count=0\n",
    "for i in range(len(str)):\n",
    "    if(str[i]==\"a\"):\n",
    "        count=count+1\n",
    "print(f\"the number of a are {count}\")"
   ]
  },
  {
   "cell_type": "code",
   "execution_count": 27,
   "id": "5bf4e1c4-1a3d-49d6-87c0-4ada01642002",
   "metadata": {},
   "outputs": [
    {
     "name": "stdout",
     "output_type": "stream",
     "text": [
      "the sum of indicies is:18\n"
     ]
    }
   ],
   "source": [
    "str=\"ola ola ola\"\n",
    "sum=0\n",
    "for i in range(len(str)):\n",
    "    if(str[i]==\"a\"):\n",
    "        sum=sum+i\n",
    "print(f\"the sum of indicies is:{sum}\")"
   ]
  },
  {
   "cell_type": "code",
   "execution_count": 30,
   "id": "522b4998-5364-48f9-a68c-40c668dc3835",
   "metadata": {},
   "outputs": [
    {
     "name": "stdout",
     "output_type": "stream",
     "text": [
      "o\n",
      "a\n",
      "o\n",
      "a\n",
      "o\n",
      "a\n"
     ]
    }
   ],
   "source": [
    "#Wap to find the vowels in a given string\n",
    "str=\"ola ola ola\"\n",
    "for i in range(len(str)):\n",
    "    if str[i] in 'aeiou':\n",
    "        print(str[i])"
   ]
  },
  {
   "cell_type": "code",
   "execution_count": 29,
   "id": "c2719261-fe22-4b88-880a-a265f8c9b78f",
   "metadata": {},
   "outputs": [
    {
     "name": "stdout",
     "output_type": "stream",
     "text": [
      "the number of vowels are: 6\n"
     ]
    }
   ],
   "source": [
    "#wap to find the number of vowels in a given string\n",
    "str=\"ola ola ola\"\n",
    "count=0\n",
    "for i in range(len(str)):\n",
    "    if str[i] in 'aeiou':\n",
    "        count=count+1\n",
    "print(f\"the number of vowels are: {count}\")\n",
    "        "
   ]
  },
  {
   "cell_type": "code",
   "execution_count": 32,
   "id": "43797185-864b-4498-b1f5-687d6175fbd0",
   "metadata": {},
   "outputs": [
    {
     "name": "stdout",
     "output_type": "stream",
     "text": [
      "The indicies of vowels are 0\n",
      "The indicies of vowels are 2\n",
      "The indicies of vowels are 4\n",
      "The indicies of vowels are 6\n",
      "The indicies of vowels are 8\n",
      "The indicies of vowels are 10\n"
     ]
    }
   ],
   "source": [
    "str=\"ola ola ola\"\n",
    "for i in range(len(str)):\n",
    "    if str[i] in 'aeiou':\n",
    "        print(f\"The indicies of vowels are {i}\")"
   ]
  },
  {
   "cell_type": "code",
   "execution_count": 33,
   "id": "f83d4545-2644-43e9-9c43-c6cace0da2a0",
   "metadata": {},
   "outputs": [
    {
     "name": "stdout",
     "output_type": "stream",
     "text": [
      "the sum of indicies of vowels is 30\n"
     ]
    }
   ],
   "source": [
    "str=\"ola ola ola\"\n",
    "sum=0\n",
    "for i in range(len(str)):\n",
    "    if str[i] in 'aeiou':\n",
    "        sum=sum+i\n",
    "print(f\"the sum of indicies of vowels is {sum}\")"
   ]
  },
  {
   "cell_type": "code",
   "execution_count": 35,
   "id": "fbccdfac-7d51-4011-8eaf-3395c538bad8",
   "metadata": {},
   "outputs": [
    {
     "name": "stdout",
     "output_type": "stream",
     "text": [
      "oa\n"
     ]
    }
   ],
   "source": [
    "#wap to find the unique vowels in a given string\n",
    "str=\"ola ola ola\"\n",
    "s=\"\"\n",
    "for i in range(len(str)):\n",
    "    if str[i] in 'aeiou' and str[i] not in s:\n",
    "        s=s+str[i]\n",
    "print(s)"
   ]
  },
  {
   "cell_type": "code",
   "execution_count": 37,
   "id": "f691395a-91fd-4e14-ad7b-ee59636e58ba",
   "metadata": {},
   "outputs": [
    {
     "name": "stdout",
     "output_type": "stream",
     "text": [
      "aioeu\n"
     ]
    }
   ],
   "source": [
    "s1=''\n",
    "str=\"hai how are you\"\n",
    "for i in str:\n",
    "    if i in 'aeiou' and i not in s1:\n",
    "        s1=s1+i\n",
    "print(s1)"
   ]
  },
  {
   "cell_type": "code",
   "execution_count": 36,
   "id": "9f37b081-3776-4862-99a5-8babadd74056",
   "metadata": {},
   "outputs": [
    {
     "name": "stdout",
     "output_type": "stream",
     "text": [
      "3\n"
     ]
    }
   ],
   "source": [
    "s=\"ola ola ola\"\n",
    "count=0\n",
    "for i in range(len(s)):\n",
    "    if(s[i:i+3]==\"ola\"):\n",
    "        count=count+1\n",
    "print(count)"
   ]
  },
  {
   "cell_type": "code",
   "execution_count": null,
   "id": "164f4598-4af0-46ee-b520-755ee4e279eb",
   "metadata": {},
   "outputs": [],
   "source": []
  }
 ],
 "metadata": {
  "kernelspec": {
   "display_name": "Python 3 (ipykernel)",
   "language": "python",
   "name": "python3"
  },
  "language_info": {
   "codemirror_mode": {
    "name": "ipython",
    "version": 3
   },
   "file_extension": ".py",
   "mimetype": "text/x-python",
   "name": "python",
   "nbconvert_exporter": "python",
   "pygments_lexer": "ipython3",
   "version": "3.11.7"
  }
 },
 "nbformat": 4,
 "nbformat_minor": 5
}
