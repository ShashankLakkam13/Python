{
 "cells": [
  {
   "cell_type": "markdown",
   "id": "0b1ffd15-3a5a-48f5-afff-97cdd3c5d10c",
   "metadata": {},
   "source": [
    "Basic syntax"
   ]
  },
  {
   "cell_type": "markdown",
   "id": "8fc1f2e8-1df8-4f53-9ea6-d6ba8d396708",
   "metadata": {},
   "source": [
    "** Exception Handling **"
   ]
  },
  {
   "cell_type": "code",
   "execution_count": 2,
   "id": "f4092b17-59c1-4a86-9835-9adb4b825860",
   "metadata": {},
   "outputs": [
    {
     "name": "stdin",
     "output_type": "stream",
     "text": [
      "enter the num1 2\n",
      "enter the num2 3\n"
     ]
    },
    {
     "ename": "NameError",
     "evalue": "name 'num' is not defined",
     "output_type": "error",
     "traceback": [
      "\u001b[0;31m---------------------------------------------------------------------------\u001b[0m",
      "\u001b[0;31mNameError\u001b[0m                                 Traceback (most recent call last)",
      "Cell \u001b[0;32mIn[2], line 3\u001b[0m\n\u001b[1;32m      1\u001b[0m num1\u001b[38;5;241m=\u001b[39m\u001b[38;5;28meval\u001b[39m(\u001b[38;5;28minput\u001b[39m(\u001b[38;5;124m\"\u001b[39m\u001b[38;5;124menter the num1\u001b[39m\u001b[38;5;124m\"\u001b[39m))\n\u001b[1;32m      2\u001b[0m num2\u001b[38;5;241m=\u001b[39m\u001b[38;5;28meval\u001b[39m(\u001b[38;5;28minput\u001b[39m(\u001b[38;5;124m\"\u001b[39m\u001b[38;5;124menter the num2\u001b[39m\u001b[38;5;124m\"\u001b[39m))\n\u001b[0;32m----> 3\u001b[0m add\u001b[38;5;241m=\u001b[39mnum\u001b[38;5;241m+\u001b[39mnum2\n\u001b[1;32m      4\u001b[0m \u001b[38;5;28mprint\u001b[39m(add)\n",
      "\u001b[0;31mNameError\u001b[0m: name 'num' is not defined"
     ]
    }
   ],
   "source": [
    "num1=eval(input(\"enter the num1\"))\n",
    "num2=eval(input(\"enter the num2\"))\n",
    "add=num+num2\n",
    "print(add)"
   ]
  },
  {
   "cell_type": "code",
   "execution_count": 3,
   "id": "03057fd7-ceb1-4445-a027-f8ca9ed706a8",
   "metadata": {},
   "outputs": [
    {
     "name": "stdin",
     "output_type": "stream",
     "text": [
      "enter the num1 4\n",
      "enter the num2 5\n"
     ]
    },
    {
     "name": "stdout",
     "output_type": "stream",
     "text": [
      "error is name error\n"
     ]
    }
   ],
   "source": [
    "try:\n",
    "    num1=eval(input(\"enter the num1\"))\n",
    "    num2=eval(input(\"enter the num2\"))\n",
    "    add=num+num2\n",
    "    print(add)\n",
    "except:\n",
    "    print(\"error is name error\")\n",
    "\n",
    "    "
   ]
  },
  {
   "cell_type": "code",
   "execution_count": 7,
   "id": "8c135476-4f05-406b-b90a-b66d7931872e",
   "metadata": {},
   "outputs": [
    {
     "name": "stdin",
     "output_type": "stream",
     "text": [
      "enter the num1 2\n",
      "enter the num2 0\n"
     ]
    },
    {
     "name": "stdout",
     "output_type": "stream",
     "text": [
      "division by zero\n"
     ]
    }
   ],
   "source": [
    "try:\n",
    "    num1=eval(input(\"enter the num1\"))\n",
    "    num2=eval(input(\"enter the num2\"))\n",
    "    div=num1/num2\n",
    "    print(div)\n",
    "except Exception as e:\n",
    "    print(e)"
   ]
  },
  {
   "cell_type": "code",
   "execution_count": 8,
   "id": "6786e862-f5a4-4dc9-a3dd-0bb05a737fca",
   "metadata": {},
   "outputs": [
    {
     "name": "stdin",
     "output_type": "stream",
     "text": [
      "enter the num1 2\n",
      "enter the num2 0\n"
     ]
    },
    {
     "name": "stdout",
     "output_type": "stream",
     "text": [
      "division by zero\n",
      "300\n",
      "all good\n"
     ]
    }
   ],
   "source": [
    "try:\n",
    "    num1=eval(input(\"enter the num1\"))\n",
    "    num2=eval(input(\"enter the num2\"))\n",
    "    div=num1/num2\n",
    "    print(div)\n",
    "except Exception as e:\n",
    "    print(e)\n",
    "    a=100\n",
    "    b=200\n",
    "    print(a+b)\n",
    "finally:\n",
    "    print(\"all good\")"
   ]
  },
  {
   "cell_type": "code",
   "execution_count": 11,
   "id": "6128f2e0-3c93-4154-855a-0dd21f294bdc",
   "metadata": {},
   "outputs": [
    {
     "name": "stdin",
     "output_type": "stream",
     "text": [
      "enter the num1 2\n"
     ]
    },
    {
     "name": "stdout",
     "output_type": "stream",
     "text": [
      "2 is even\n",
      "program is done\n"
     ]
    }
   ],
   "source": [
    "try:\n",
    "    num1=eval(input(\"enter the num1\"))\n",
    "    if(num1%2==0):\n",
    "        print(f\"{num1} is even\")\n",
    "    else:\n",
    "        print(f\"{num1} is not even\")\n",
    "except Exception as e:\n",
    "    print(\"The number is not even\")\n",
    "finally:\n",
    "    print(\"program is done\")"
   ]
  },
  {
   "cell_type": "code",
   "execution_count": null,
   "id": "952daa7f-9edb-45c1-b5e2-1669ee03adcc",
   "metadata": {},
   "outputs": [],
   "source": []
  }
 ],
 "metadata": {
  "kernelspec": {
   "display_name": "Python 3 (ipykernel)",
   "language": "python",
   "name": "python3"
  },
  "language_info": {
   "codemirror_mode": {
    "name": "ipython",
    "version": 3
   },
   "file_extension": ".py",
   "mimetype": "text/x-python",
   "name": "python",
   "nbconvert_exporter": "python",
   "pygments_lexer": "ipython3",
   "version": "3.11.7"
  }
 },
 "nbformat": 4,
 "nbformat_minor": 5
}
