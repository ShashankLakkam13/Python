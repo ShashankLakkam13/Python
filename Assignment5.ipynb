{
 "cells": [
  {
   "cell_type": "markdown",
   "id": "bbfc323e-42de-46db-bed2-2c263bc5b5cb",
   "metadata": {},
   "source": [
    "Assignment"
   ]
  },
  {
   "cell_type": "markdown",
   "id": "97a8971a-1a94-447e-8b8d-2e13bf791570",
   "metadata": {},
   "source": [
    "#### Problem-1(Use conditional statements) \n",
    "\n",
    "Write a program that asks the user to enter a length in centimetres. If the user enters\n",
    "a negative length, the program should tell the user that the entry is invalid. Otherwise,\n",
    "the program should convert the length to inches and print out the result. There are\n",
    "2.54 centimetres in an inch. \n",
    "\n",
    "#### Problem-2(Use conditional statements) \n",
    "Ask the user for a temperature. Then ask them what units, Celsius or Fahrenheit, the\n",
    "temperature is in. Your program should convert the temperature to the other unit. The\n",
    "conversions are F = 9 5 C +32 and C = 5 9 (F − 32). \n",
    "\n",
    "#### Problem-3(Use conditional statements) \n",
    "Ask the user to enter a temperature in Celsius. The program should print a\n",
    "message based on the temperature: \n",
    "• If the temperature is less than -273.15, print that the temperature is invalid because it is\n",
    "below absolute zero. \n",
    "• If it is exactly -273.15, print that the temperature is absolute 0. \n",
    "• If the temperature is between -273.15 and 0, print that the temperature is below\n",
    "freezing. • If it is 0, print that the temperature is at the freezing point. \n",
    "• If it is between 0 and 100, print that the temperature is in the normal\n",
    "range. • If it is 100, print that the temperature is at the boiling point. \n",
    "• If it is above 100, print that the temperature is above the boiling point.\n",
    "#### Problem-4(Use conditional statements) \n",
    "Write a program that asks the user how many credits they have taken. If they have taken 23 or\n",
    "less, print that the student is a freshman. If they have taken between 24 and 53, print that they\n",
    "are asophomore. The range for juniors is 54 to 83, and for seniors it is 84 and over. \n",
    "\n",
    "#### Problem-5(Use conditional statements) \n",
    "Generate a random number between 1 and 10. Ask the user to guess the number and print a\n",
    "message based on whether they get it right or not. \n",
    "\n",
    "#### Problem-6(Use conditional statements) \n",
    "A store charges $12 per item if you buy less than 10 items. If you buy between 10\n",
    "and 99 items, the cost is $10 per item. If you buy 100 or more items, the cost is $7\n",
    "per item. Write a program that asks the user how many items they are buying and\n",
    "prints the total cost. \n",
    "\n",
    "#### Problem-7(Use conditional statements) \n",
    "Write a program that asks the user for two numbers and prints Close if the\n",
    "numbers are within .001of each other and Not close otherwise. \n",
    "\n",
    "#### Problem-8(Use conditional statements) \n",
    "A year is a leap year if it is divisible by 4, except that years divisible by 100 are not leap years unless\n",
    "they are also divisible by 400. Write a program that asks the user for a year and prints out whether\n",
    "it is a leap year or not. \n",
    "\n",
    "#### Problem-9(Use conditional statements) \n",
    "Write a program that asks the user to enter a number and prints out all the divisors of that\n",
    "number. [Hint: the % operator is used to tell if a number is divisible by something. \n",
    "\n",
    "#### Problem-10(Use conditional statements) \n",
    "Write a program that asks the user for an hour between 1 and 12, asks them to\n",
    "enter am or pm, and asks them how many hours into the future they want to go. \n",
    "Print out what the hour will be that many hours into the future, printing am or pm as\n",
    "appropriate. An example is shown below. \n",
    "Enter hour: 8 \n",
    "am (1) or pm (2)? 1 \n",
    "How many hours ahead? 5 \n",
    "New hour: 1 pm"
   ]
  },
  {
   "cell_type": "code",
   "execution_count": 4,
   "id": "393e4d8e-f69d-4fc8-b91f-ee05611b057e",
   "metadata": {},
   "outputs": [
    {
     "name": "stdin",
     "output_type": "stream",
     "text": [
      "enter the length in centimeters: -2\n"
     ]
    },
    {
     "name": "stdout",
     "output_type": "stream",
     "text": [
      "the number is invalid\n"
     ]
    }
   ],
   "source": [
    "#### Problem-1(Use conditional statements) \n",
    "\n",
    "#Write a program that asks the user to enter a length in centimetres. If the user enters\n",
    "#a negative length, the program should tell the user that the entry is invalid. Otherwise,\n",
    "#the program should convert the length to inches and print out the result. There are\n",
    "#2.54 centimetres in an inch. \n",
    "num1=eval(input(\"enter the length in centimeters:\"))\n",
    "if(num1<=0):\n",
    "    print(\"the number is invalid\")\n",
    "else:\n",
    "    inches=round((num1//2.4),2)\n",
    "    print(f\"It is {inches} inches\")"
   ]
  },
  {
   "cell_type": "code",
   "execution_count": 6,
   "id": "e6c5224c-b64b-48aa-a191-9dfcea9b3db0",
   "metadata": {},
   "outputs": [
    {
     "name": "stdin",
     "output_type": "stream",
     "text": [
      "enter the temperature: 100\n",
      "enter the units of temperature: f\n"
     ]
    },
    {
     "name": "stdout",
     "output_type": "stream",
     "text": [
      "the temperature in celisius is :37.78\n"
     ]
    }
   ],
   "source": [
    "#### Problem-2(Use conditional statements) \n",
    "#Ask the user for a temperature. Then ask them what units, Celsius or Fahrenheit, the\n",
    "#temperature is in. Your program should convert the temperature to the other unit. The\n",
    "#conversions are F = 9 5 C +32 and C = 5 9 (F − 32). \n",
    "temp=eval(input(\"enter the temperature:\"))\n",
    "units=input(\"enter the units of temperature:\")\n",
    "if(units==\"f\" or \"F\"):\n",
    "    celisius=round((temp-32) *(5/9),2)\n",
    "    print(f\"the temperature in celisius is :{celisius}\")\n",
    "elif(units==\"c\" or \"C\"):\n",
    "    faranhiet=round((temp+32)*(9/5),2)\n",
    "    print(f\"the temperature in faranhiet is {faranhiet}\") \n",
    "else:\n",
    "    print(\"enter the correct units either c or f\")"
   ]
  },
  {
   "cell_type": "code",
   "execution_count": 11,
   "id": "11302598-82de-48cc-a6f2-1f501abbd956",
   "metadata": {},
   "outputs": [
    {
     "name": "stdin",
     "output_type": "stream",
     "text": [
      "enter the temperature in celisius: -0.1\n"
     ]
    },
    {
     "name": "stdout",
     "output_type": "stream",
     "text": [
      "the temperature is below freezing\n"
     ]
    }
   ],
   "source": [
    "#### Problem-3(Use conditional statements) \n",
    "#Ask the user to enter a temperature in Celsius. The program should print a\n",
    "#message based on the temperature: \n",
    "#• If the temperature is less than -273.15, print that the temperature is invalid because it is\n",
    "#below absolute zero. \n",
    "#• If it is exactly -273.15, print that the temperature is absolute 0. \n",
    "#• If the temperature is between -273.15 and 0, print that the temperature is below\n",
    "#freezing. • If it is 0, print that the temperature is at the freezing point. \n",
    "#• If it is between 0 and 100, print that the temperature is in the normal\n",
    "#range. • If it is 100, print that the temperature is at the boiling point. \n",
    "#• If it is above 100, print that the temperature is above the boiling point.\n",
    "temp=eval(input(\"enter the temperature in celisius:\"))\n",
    "if(temp < -273.15):\n",
    "    print(\"the temperature is invalid because it is below absolute zero.\")\n",
    "elif(temp == -273.15):\n",
    "    print(\"the temperature is absolute 0\")\n",
    "elif(-273.15 < temp < 0):\n",
    "    print(\"the temperature is below freezing\")\n",
    "elif(temp==0):\n",
    "    print(\"the temperature is at the freezing point\")\n",
    "elif(0 < temp < 100):\n",
    "    print(\"the temperature is in the normal range\")\n",
    "elif(temp==100):\n",
    "    print(\"the temperature is at the boiling point\")\n",
    "else:\n",
    "    print(\"the temperature is above the boiling point\")\n",
    "    "
   ]
  },
  {
   "cell_type": "code",
   "execution_count": 13,
   "id": "c62ae1e3-6d37-46a4-beee-e5d0fe767199",
   "metadata": {},
   "outputs": [
    {
     "name": "stdin",
     "output_type": "stream",
     "text": [
      "number of credits taken: 56\n"
     ]
    },
    {
     "name": "stdout",
     "output_type": "stream",
     "text": [
      "the student is junior\n"
     ]
    }
   ],
   "source": [
    "#### Problem-4(Use conditional statements) \n",
    "#Write a program that asks the user how many credits they have taken. If they have taken 23 or\n",
    "#less, print that the student is a freshman. If they have taken between 24 and 53, print that they\n",
    "#are asophomore. The range for juniors is 54 to 83, and for seniors it is 84 and over. \n",
    "creditstaken=eval(input(\"number of credits taken:\"))\n",
    "if(creditstaken<23):\n",
    "    print(\"student is freshman\")\n",
    "elif(24 <creditstaken <53):\n",
    "    print(\"student is somophore\")\n",
    "elif(54 <creditstaken <83):\n",
    "    print(\"the student is junior\")\n",
    "elif(creditstaken>=84):\n",
    "    print(\"The student is senior\")\n",
    "else:\n",
    "    print(\"enter the correct credits\")"
   ]
  },
  {
   "cell_type": "code",
   "execution_count": 14,
   "id": "07b57af9-87d7-49d4-bcdb-00143c1e632e",
   "metadata": {},
   "outputs": [
    {
     "name": "stdin",
     "output_type": "stream",
     "text": [
      "Guess the number: 4\n"
     ]
    },
    {
     "name": "stdout",
     "output_type": "stream",
     "text": [
      "didnt guessed correctly\n"
     ]
    }
   ],
   "source": [
    "### Problem-5(Use conditional statements) \n",
    "#Generate a random number between 1 and 10. Ask the user to guess the number and print a\n",
    "#message based on whether they get it right or not. \n",
    "import random\n",
    "num1=random.randint(1,10)\n",
    "guess=int(input(\"Guess the number:\"))\n",
    "if(guess==num1):\n",
    "    print(\"guessed correctly\")\n",
    "else:\n",
    "    print(\"didnt guessed correctly\")"
   ]
  },
  {
   "cell_type": "code",
   "execution_count": 18,
   "id": "52c2bdf6-b8e6-4598-a797-5a9dc0456318",
   "metadata": {},
   "outputs": [
    {
     "name": "stdin",
     "output_type": "stream",
     "text": [
      "Enter number of items you buy: 9\n"
     ]
    },
    {
     "name": "stdout",
     "output_type": "stream",
     "text": [
      "the totalcost is 108\n"
     ]
    }
   ],
   "source": [
    "#### Problem-6(Use conditional statements) \n",
    "#A store charges $12 per item if you buy less than 10 items. If you buy between 10\n",
    "#and 99 items, the cost is $10 per item. If you buy 100 or more items, the cost is $7\n",
    "#per item. Write a program that asks the user how many items they are buying and\n",
    "#prints the total cost.\n",
    "numberofitems=int(input(\"Enter number of items you buy:\"))\n",
    "if(1<numberofitems<10):\n",
    "    print(f\"the totalcost is {numberofitems*12}\")\n",
    "elif(10<numberofitems<100):\n",
    "    print(f\"the totalcost is {numberofitems*10}\")\n",
    "elif(numberofitems>=100):\n",
    "    print(f\"the totalcost is {numberofitems*7}\")\n",
    "else:\n",
    "    print(\"enter number greater than zero\")"
   ]
  },
  {
   "cell_type": "code",
   "execution_count": 19,
   "id": "247ca0db-a859-4c34-b9ea-08f508a2c9b9",
   "metadata": {},
   "outputs": [
    {
     "name": "stdin",
     "output_type": "stream",
     "text": [
      "enter number 1: 0.9\n",
      "enter number 2: 0.8\n"
     ]
    },
    {
     "name": "stdout",
     "output_type": "stream",
     "text": [
      "the 0.9 and 0.8 are close\n"
     ]
    }
   ],
   "source": [
    "#### Problem-7(Use conditional statements) \n",
    "#Write a program that asks the user for two numbers and prints Close if the\n",
    "#numbers are within .001of each other and Not close otherwise. \n",
    "num1=eval(input(\"enter number 1:\"))\n",
    "num2=eval(input(\"enter number 2:\"))\n",
    "if(num2-num1 <=0.001):\n",
    "    print(f\"the {num1} and {num2} are close\")\n",
    "else:\n",
    "    print(f\"the {num1} and {num2} are not close\")"
   ]
  },
  {
   "cell_type": "code",
   "execution_count": 2,
   "id": "c1c68c87-0d24-4874-8f1a-bae60012d921",
   "metadata": {},
   "outputs": [
    {
     "name": "stdin",
     "output_type": "stream",
     "text": [
      "Enter year:  1800\n"
     ]
    },
    {
     "name": "stdout",
     "output_type": "stream",
     "text": [
      "1800 is not a Leap Year\n"
     ]
    }
   ],
   "source": [
    "#### Problem-8(Use conditional statements) \n",
    "#A year is a leap year if it is divisible by 4, except that years divisible by 100 are not leap years unless\n",
    "#they are also divisible by 400. Write a program that asks the user for a year and prints out whether\n",
    "#it is a leap year or not. \n",
    "\n",
    "year = int(input(\"Enter year: \"))\n",
    "if (year % 400) == 0 :\n",
    "    print(year, \"is a Leap Year\")\n",
    "elif (year % 100) == 0 :\n",
    "    print(year, \"is not a Leap Year\")\n",
    "elif (year % 4) == 0 :\n",
    "    print(year, \"is a Leap Year\")\n",
    "else :\n",
    "    print(year, \"is not a Leap Year\")\n"
   ]
  },
  {
   "cell_type": "code",
   "execution_count": 20,
   "id": "b64bdc44-c77b-4a43-a501-faa87d48c126",
   "metadata": {},
   "outputs": [
    {
     "name": "stdin",
     "output_type": "stream",
     "text": [
      "enter the number: 5\n"
     ]
    },
    {
     "name": "stdout",
     "output_type": "stream",
     "text": [
      "1 is the divisior of 5\n",
      "5 is the divisior of 5\n",
      "number of divisiors 2\n"
     ]
    }
   ],
   "source": [
    "#### Problem-9(Use conditional statements) \n",
    "#Write a program that asks the user to enter a number and prints out all the divisors of that\n",
    "#number. [Hint: the % operator is used to tell if a number is divisible by something. \n",
    "\n",
    "number=eval(input(\"enter the number:\"))\n",
    "count=0\n",
    "for i in range(1,number+1):\n",
    "    if(number%i==0):\n",
    "        count=count+1\n",
    "        print(f\"{i} is the divisior of {number}\")\n",
    "print(f\"number of divisiors {count}\")"
   ]
  },
  {
   "cell_type": "code",
   "execution_count": 2,
   "id": "ecf29fb6-2d88-4685-80a4-4cc2287674f9",
   "metadata": {},
   "outputs": [
    {
     "name": "stdin",
     "output_type": "stream",
     "text": [
      "Enter the time in 1 to 12  12\n",
      "enter  am or pm pm\n",
      "enter the time you want to go ahead: 5\n"
     ]
    },
    {
     "name": "stdout",
     "output_type": "stream",
     "text": [
      "newtime is 5 pm\n"
     ]
    }
   ],
   "source": [
    "#### Problem-10(Use conditional statements) \n",
    "#Write a program that asks the user for an hour between 1 and 12, asks them to\n",
    "#enter am or pm, and asks them how many hours into the future they want to go. \n",
    "#Print out what the hour will be that many hours into the future, printing am or pm as\n",
    "#appropriate. An example is shown below. \n",
    "#Enter hour: 8 \n",
    "#am (1) or pm (2)? 1 \n",
    "#How many hours ahead? 5 \n",
    "#New hour: 1 pm\n",
    "time=int(input(\"Enter the time in 1 to 12 \"))\n",
    "var=input(\"enter  am or pm:\")\n",
    "timetoadvance=int(input(\"enter the time you want to go ahead:\"))\n",
    "if(var==\"am\" or \"AM\"):\n",
    "    newtime=time+timetoadvance\n",
    "    if(newtime>12):\n",
    "        newtime=newtime-12\n",
    "        print(f\"newtime is {newtime} pm\")\n",
    "    else:\n",
    "        print(f\"new time is {newtime} am\")\n",
    "elif(var==\"pm\" or \"PM\"):\n",
    "    newtime=time+timetoadvance\n",
    "    if(newtime>12):\n",
    "        newtime=newtime-12\n",
    "        print(f\"newtime is {newtime} am\")\n",
    "    else:\n",
    "        print(f\"new time is {newtime} pm\")\n",
    "else:\n",
    "    print(\"enter correct time horizon\")\n",
    "    \n"
   ]
  },
  {
   "cell_type": "code",
   "execution_count": null,
   "id": "abc63353-49b4-4642-972c-b63cb2214b9c",
   "metadata": {},
   "outputs": [],
   "source": []
  }
 ],
 "metadata": {
  "kernelspec": {
   "display_name": "Python 3 (ipykernel)",
   "language": "python",
   "name": "python3"
  },
  "language_info": {
   "codemirror_mode": {
    "name": "ipython",
    "version": 3
   },
   "file_extension": ".py",
   "mimetype": "text/x-python",
   "name": "python",
   "nbconvert_exporter": "python",
   "pygments_lexer": "ipython3",
   "version": "3.11.7"
  }
 },
 "nbformat": 4,
 "nbformat_minor": 5
}
