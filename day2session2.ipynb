{
 "cells": [
  {
   "cell_type": "markdown",
   "id": "b7937217-78ad-4066-b98a-98af0e4df36c",
   "metadata": {},
   "source": [
    "# $ print $\n",
    "$ print $"
   ]
  },
  {
   "cell_type": "code",
   "execution_count": 3,
   "id": "e953725b-0660-4f2c-b1c3-451ca0de4ac7",
   "metadata": {},
   "outputs": [
    {
     "name": "stdout",
     "output_type": "stream",
     "text": [
      "100\n"
     ]
    }
   ],
   "source": [
    "number=100\n",
    "\n",
    "print(number)\n",
    "  "
   ]
  },
  {
   "cell_type": "code",
   "execution_count": 4,
   "id": "30f50c16-e0db-4dc9-8356-203507399044",
   "metadata": {},
   "outputs": [
    {
     "data": {
      "text/plain": [
       "200"
      ]
     },
     "execution_count": 4,
     "metadata": {},
     "output_type": "execute_result"
    }
   ],
   "source": [
    "number1=100\n",
    "number2=200\n",
    "number1\n",
    "number2"
   ]
  },
  {
   "cell_type": "markdown",
   "id": "4dd807ef-5ce9-4238-b392-3ce354c1df38",
   "metadata": {},
   "source": [
    "# if you want to print between lines we need print"
   ]
  },
  {
   "cell_type": "code",
   "execution_count": 5,
   "id": "e9815e2a-be62-4981-a187-1a02bd4fbd4d",
   "metadata": {},
   "outputs": [
    {
     "name": "stdout",
     "output_type": "stream",
     "text": [
      "100\n",
      "200\n"
     ]
    }
   ],
   "source": [
    "number1=100\n",
    "number2=200\n",
    "print(number1)\n",
    "print(number2)"
   ]
  },
  {
   "cell_type": "code",
   "execution_count": 6,
   "id": "b0eb7b35-d125-4129-9457-7d92b6a89c30",
   "metadata": {},
   "outputs": [
    {
     "name": "stdout",
     "output_type": "stream",
     "text": [
      "100 200\n"
     ]
    }
   ],
   "source": [
    "print(number1,number2)"
   ]
  },
  {
   "cell_type": "code",
   "execution_count": 7,
   "id": "19063e15-339e-4c53-9fef-7948df40ef70",
   "metadata": {},
   "outputs": [
    {
     "name": "stdout",
     "output_type": "stream",
     "text": [
      "the addition of 10 and 20 is 30\n"
     ]
    }
   ],
   "source": [
    "print(\"the addition of 10 and 20 is 30\")"
   ]
  },
  {
   "cell_type": "code",
   "execution_count": 8,
   "id": "5658853d-9fc8-4baf-924b-928a87702e24",
   "metadata": {},
   "outputs": [],
   "source": [
    "num1=100\n",
    "num2=200\n",
    "num3=num1+num2"
   ]
  },
  {
   "cell_type": "code",
   "execution_count": 9,
   "id": "0abdf205-478c-4f7a-81fe-711b7a5fedd3",
   "metadata": {},
   "outputs": [
    {
     "name": "stdout",
     "output_type": "stream",
     "text": [
      "the addition of 100 and 200 is 300\n"
     ]
    }
   ],
   "source": [
    "print(\"the addition of\",num1,\"and\",num2,\"is\",num3);"
   ]
  },
  {
   "cell_type": "code",
   "execution_count": 10,
   "id": "e594b031-0635-4376-a198-c08026ee3375",
   "metadata": {},
   "outputs": [],
   "source": [
    "name='python'\n",
    "age=10\n",
    "city=\"hyd\""
   ]
  },
  {
   "cell_type": "code",
   "execution_count": 11,
   "id": "36af879c-d996-43f3-9f45-5202b9a8eb4a",
   "metadata": {},
   "outputs": [
    {
     "name": "stdout",
     "output_type": "stream",
     "text": [
      "name is python  ,  I am  10 years old i am from hyd\n"
     ]
    }
   ],
   "source": [
    "print(\"name is\",name,\" ,  I am \",age,\"years old i am from\",city)"
   ]
  },
  {
   "cell_type": "markdown",
   "id": "b92e017e-9669-4de7-93af-97d9795bdd34",
   "metadata": {},
   "source": [
    "# format method"
   ]
  },
  {
   "cell_type": "code",
   "execution_count": 14,
   "id": "bbc2f2f4-1ad6-4f69-a53d-d487db884ae5",
   "metadata": {},
   "outputs": [
    {
     "name": "stdout",
     "output_type": "stream",
     "text": [
      "the addition of 100 and 200 is 300\n"
     ]
    }
   ],
   "source": [
    "print(\"the addition of {} and {} is {}\".format(num1,num2,num3))"
   ]
  },
  {
   "cell_type": "code",
   "execution_count": 15,
   "id": "b84aef06-79f3-44b7-a33e-340084f29c8f",
   "metadata": {},
   "outputs": [
    {
     "name": "stdout",
     "output_type": "stream",
     "text": [
      "name is python I am 10 years old i am from hyd\n"
     ]
    }
   ],
   "source": [
    "print(\"name is {} I am {} years old i am from {}\".format(name,age,city))"
   ]
  },
  {
   "cell_type": "markdown",
   "id": "412d583a-e551-4adf-a7d9-2231756acf96",
   "metadata": {},
   "source": [
    "# fstring"
   ]
  },
  {
   "cell_type": "code",
   "execution_count": 18,
   "id": "e72ec718-5ba3-462f-96ac-07d0f4c731c4",
   "metadata": {},
   "outputs": [
    {
     "name": "stdout",
     "output_type": "stream",
     "text": [
      "name is python I am 10 years old i am from hyd\n"
     ]
    }
   ],
   "source": [
    "print(f\"name is {name} I am {age} years old i am from {city}\")"
   ]
  },
  {
   "cell_type": "code",
   "execution_count": 19,
   "id": "d4886021-a0a8-45ff-b28e-78076653b4c4",
   "metadata": {},
   "outputs": [],
   "source": [
    "number1=10\n",
    "number2=20\n",
    "sum=number1+number2\n",
    "sub=number1-number2\n",
    "mul=number1*number2\n",
    "div=number1/number2"
   ]
  },
  {
   "cell_type": "code",
   "execution_count": 22,
   "id": "2cbace5c-281d-46b6-a5dc-f40283fd702e",
   "metadata": {},
   "outputs": [
    {
     "name": "stdout",
     "output_type": "stream",
     "text": [
      "the addition of 10 and 20 is 30\n"
     ]
    }
   ],
   "source": [
    "print(\"the addition of {} and {} is {}\".format(number1,number2,sum))"
   ]
  },
  {
   "cell_type": "code",
   "execution_count": 23,
   "id": "cfd3c844-9b48-48a0-9920-15d74e7bb8d2",
   "metadata": {},
   "outputs": [
    {
     "name": "stdout",
     "output_type": "stream",
     "text": [
      "the sub of 10 and 20 is -10\n"
     ]
    }
   ],
   "source": [
    "print(f\"the sub of {number1} and {number2} is {sub}\")"
   ]
  },
  {
   "cell_type": "code",
   "execution_count": 24,
   "id": "f8388a08-2bc6-422d-a01c-1f4d1595b61e",
   "metadata": {},
   "outputs": [
    {
     "name": "stdout",
     "output_type": "stream",
     "text": [
      "the multiplication of  10 and  20 is 200\n"
     ]
    }
   ],
   "source": [
    "print(\"the multiplication of \",number1,\"and \",number2,\"is\",mul)"
   ]
  },
  {
   "cell_type": "code",
   "execution_count": 25,
   "id": "aaa944d6-166b-487f-8733-79cd9a46e957",
   "metadata": {},
   "outputs": [
    {
     "name": "stdout",
     "output_type": "stream",
     "text": [
      "the div of 10 and 20 is 0.5\n"
     ]
    }
   ],
   "source": [
    "print(f\"the div of {number1} and {number2} is {div}\")"
   ]
  },
  {
   "cell_type": "code",
   "execution_count": null,
   "id": "5f071700-09ab-4bde-a3e2-eaa219b07725",
   "metadata": {},
   "outputs": [],
   "source": []
  }
 ],
 "metadata": {
  "kernelspec": {
   "display_name": "Python 3 (ipykernel)",
   "language": "python",
   "name": "python3"
  },
  "language_info": {
   "codemirror_mode": {
    "name": "ipython",
    "version": 3
   },
   "file_extension": ".py",
   "mimetype": "text/x-python",
   "name": "python",
   "nbconvert_exporter": "python",
   "pygments_lexer": "ipython3",
   "version": "3.11.7"
  }
 },
 "nbformat": 4,
 "nbformat_minor": 5
}
