{
 "cells": [
  {
   "cell_type": "code",
   "execution_count": 11,
   "id": "ac432253-e357-4e36-836a-acc98c813466",
   "metadata": {},
   "outputs": [
    {
     "name": "stdout",
     "output_type": "stream",
     "text": [
      "a\n",
      "i\n",
      "o\n",
      "a\n",
      "e\n",
      "o\n",
      "u\n"
     ]
    }
   ],
   "source": [
    "str=\"hai how are you\"\n",
    "for i in str:\n",
    "    if i in 'aeiou':\n",
    "        print(i)"
   ]
  },
  {
   "cell_type": "code",
   "execution_count": 12,
   "id": "4b01b373-2101-426f-bd3b-255c2800c3a0",
   "metadata": {},
   "outputs": [
    {
     "name": "stdout",
     "output_type": "stream",
     "text": [
      "the number of vowels are 7\n"
     ]
    }
   ],
   "source": [
    "count=0\n",
    "str=\"hai how are you\"\n",
    "for i in str:\n",
    "    if i in 'aeiou':\n",
    "        count=count+1\n",
    "print(f\"the number of vowels are {count}\")"
   ]
  },
  {
   "cell_type": "code",
   "execution_count": 14,
   "id": "fe9a320e-6d3e-4de2-9401-fbf35f8e3285",
   "metadata": {},
   "outputs": [
    {
     "name": "stdout",
     "output_type": "stream",
     "text": [
      "1 a\n",
      "2 i\n",
      "5 o\n",
      "8 a\n",
      "10 e\n",
      "13 o\n",
      "14 u\n"
     ]
    }
   ],
   "source": [
    "str=\"hai how are you\"\n",
    "for i in range(len(str)):\n",
    "    if str[i] in 'aeiou':\n",
    "        print(i,str[i])"
   ]
  },
  {
   "cell_type": "code",
   "execution_count": 15,
   "id": "9df66d1f-0e93-441c-817d-4917c09fdffb",
   "metadata": {},
   "outputs": [
    {
     "name": "stdout",
     "output_type": "stream",
     "text": [
      "1 a\n",
      "2 i\n",
      "5 o\n",
      "8 a\n",
      "10 e\n",
      "13 o\n",
      "14 u\n",
      "the sum of indicies is 53\n"
     ]
    }
   ],
   "source": [
    "sum=0\n",
    "str=\"hai how are you\"\n",
    "for i in range(len(str)):\n",
    "    if str[i] in 'aeiou':\n",
    "        print(i,str[i])\n",
    "        sum=sum+i\n",
    "print(f\"the sum of indicies is {sum}\")"
   ]
  },
  {
   "cell_type": "markdown",
   "id": "84bac38c-3d9e-4ba6-8675-b8b7c8d5ed8e",
   "metadata": {},
   "source": [
    "Unique wrapper\n",
    "\n",
    "If you want to find unique object then you need to take another unique object"
   ]
  },
  {
   "cell_type": "code",
   "execution_count": 26,
   "id": "1eafbd4d-8770-4ec4-9f22-8fbe5abaf611",
   "metadata": {},
   "outputs": [
    {
     "name": "stdout",
     "output_type": "stream",
     "text": [
      "aioeu\n"
     ]
    }
   ],
   "source": [
    "s1=''\n",
    "str=\"hai how are you\"\n",
    "for i in str:\n",
    "    if i in 'aeiou' and i not in s1:\n",
    "        s1=s1+i\n",
    "print(s1)"
   ]
  },
  {
   "cell_type": "markdown",
   "id": "c9d9ee79-b29c-4103-bec4-a42dce4d8cf6",
   "metadata": {},
   "source": [
    "Methods In Strings"
   ]
  },
  {
   "cell_type": "code",
   "execution_count": 21,
   "id": "d478b2e8-d2a0-410e-aea8-2c4c8664fa8b",
   "metadata": {},
   "outputs": [
    {
     "ename": "NameError",
     "evalue": "name 'random' is not defined",
     "output_type": "error",
     "traceback": [
      "\u001b[0;31m---------------------------------------------------------------------------\u001b[0m",
      "\u001b[0;31mNameError\u001b[0m                                 Traceback (most recent call last)",
      "Cell \u001b[0;32mIn[21], line 1\u001b[0m\n\u001b[0;32m----> 1\u001b[0m \u001b[38;5;28mdir\u001b[39m(random)\n",
      "\u001b[0;31mNameError\u001b[0m: name 'random' is not defined"
     ]
    }
   ],
   "source": [
    "dir(random)"
   ]
  },
  {
   "cell_type": "code",
   "execution_count": 22,
   "id": "bfe69d65-71f5-4ef5-805d-5e424b38c333",
   "metadata": {},
   "outputs": [],
   "source": [
    "import random"
   ]
  },
  {
   "cell_type": "code",
   "execution_count": 23,
   "id": "fd5a8632-eab8-403a-980a-51f0ad9a7a04",
   "metadata": {},
   "outputs": [
    {
     "data": {
      "text/plain": [
       "['BPF',\n",
       " 'LOG4',\n",
       " 'NV_MAGICCONST',\n",
       " 'RECIP_BPF',\n",
       " 'Random',\n",
       " 'SG_MAGICCONST',\n",
       " 'SystemRandom',\n",
       " 'TWOPI',\n",
       " '_ONE',\n",
       " '_Sequence',\n",
       " '_Set',\n",
       " '__all__',\n",
       " '__builtins__',\n",
       " '__cached__',\n",
       " '__doc__',\n",
       " '__file__',\n",
       " '__loader__',\n",
       " '__name__',\n",
       " '__package__',\n",
       " '__spec__',\n",
       " '_accumulate',\n",
       " '_acos',\n",
       " '_bisect',\n",
       " '_ceil',\n",
       " '_cos',\n",
       " '_e',\n",
       " '_exp',\n",
       " '_floor',\n",
       " '_index',\n",
       " '_inst',\n",
       " '_isfinite',\n",
       " '_log',\n",
       " '_os',\n",
       " '_pi',\n",
       " '_random',\n",
       " '_repeat',\n",
       " '_sha512',\n",
       " '_sin',\n",
       " '_sqrt',\n",
       " '_test',\n",
       " '_test_generator',\n",
       " '_urandom',\n",
       " '_warn',\n",
       " 'betavariate',\n",
       " 'choice',\n",
       " 'choices',\n",
       " 'expovariate',\n",
       " 'gammavariate',\n",
       " 'gauss',\n",
       " 'getrandbits',\n",
       " 'getstate',\n",
       " 'lognormvariate',\n",
       " 'normalvariate',\n",
       " 'paretovariate',\n",
       " 'randbytes',\n",
       " 'randint',\n",
       " 'random',\n",
       " 'randrange',\n",
       " 'sample',\n",
       " 'seed',\n",
       " 'setstate',\n",
       " 'shuffle',\n",
       " 'triangular',\n",
       " 'uniform',\n",
       " 'vonmisesvariate',\n",
       " 'weibullvariate']"
      ]
     },
     "execution_count": 23,
     "metadata": {},
     "output_type": "execute_result"
    }
   ],
   "source": [
    "dir(random)"
   ]
  },
  {
   "cell_type": "code",
   "execution_count": 24,
   "id": "d3559e52-b685-4c84-b865-2d75eac3e413",
   "metadata": {},
   "outputs": [
    {
     "data": {
      "text/plain": [
       "['__add__',\n",
       " '__class__',\n",
       " '__contains__',\n",
       " '__delattr__',\n",
       " '__dir__',\n",
       " '__doc__',\n",
       " '__eq__',\n",
       " '__format__',\n",
       " '__ge__',\n",
       " '__getattribute__',\n",
       " '__getitem__',\n",
       " '__getnewargs__',\n",
       " '__getstate__',\n",
       " '__gt__',\n",
       " '__hash__',\n",
       " '__init__',\n",
       " '__init_subclass__',\n",
       " '__iter__',\n",
       " '__le__',\n",
       " '__len__',\n",
       " '__lt__',\n",
       " '__mod__',\n",
       " '__mul__',\n",
       " '__ne__',\n",
       " '__new__',\n",
       " '__reduce__',\n",
       " '__reduce_ex__',\n",
       " '__repr__',\n",
       " '__rmod__',\n",
       " '__rmul__',\n",
       " '__setattr__',\n",
       " '__sizeof__',\n",
       " '__str__',\n",
       " '__subclasshook__',\n",
       " 'capitalize',\n",
       " 'casefold',\n",
       " 'center',\n",
       " 'count',\n",
       " 'encode',\n",
       " 'endswith',\n",
       " 'expandtabs',\n",
       " 'find',\n",
       " 'format',\n",
       " 'format_map',\n",
       " 'index',\n",
       " 'isalnum',\n",
       " 'isalpha',\n",
       " 'isascii',\n",
       " 'isdecimal',\n",
       " 'isdigit',\n",
       " 'isidentifier',\n",
       " 'islower',\n",
       " 'isnumeric',\n",
       " 'isprintable',\n",
       " 'isspace',\n",
       " 'istitle',\n",
       " 'isupper',\n",
       " 'join',\n",
       " 'ljust',\n",
       " 'lower',\n",
       " 'lstrip',\n",
       " 'maketrans',\n",
       " 'partition',\n",
       " 'removeprefix',\n",
       " 'removesuffix',\n",
       " 'replace',\n",
       " 'rfind',\n",
       " 'rindex',\n",
       " 'rjust',\n",
       " 'rpartition',\n",
       " 'rsplit',\n",
       " 'rstrip',\n",
       " 'split',\n",
       " 'splitlines',\n",
       " 'startswith',\n",
       " 'strip',\n",
       " 'swapcase',\n",
       " 'title',\n",
       " 'translate',\n",
       " 'upper',\n",
       " 'zfill']"
      ]
     },
     "execution_count": 24,
     "metadata": {},
     "output_type": "execute_result"
    }
   ],
   "source": [
    "dir('')"
   ]
  },
  {
   "cell_type": "code",
   "execution_count": 25,
   "id": "54c00fab-5108-4361-a650-47e17afce917",
   "metadata": {},
   "outputs": [],
   "source": [
    "#Difference between keyword and method"
   ]
  },
  {
   "cell_type": "markdown",
   "id": "bdd21535-476b-452e-9ddb-8aaadea29f0a",
   "metadata": {},
   "source": [
    "keyword(methodname)\n",
    "string.methodname()"
   ]
  },
  {
   "cell_type": "markdown",
   "id": "f78e082f-9238-414f-ab4f-b7923b53e275",
   "metadata": {},
   "source": [
    "capitalize method"
   ]
  },
  {
   "cell_type": "code",
   "execution_count": 34,
   "id": "5e0914b9-796f-4e34-ad41-a4c8efe248d3",
   "metadata": {},
   "outputs": [
    {
     "data": {
      "text/plain": [
       "'Python is'"
      ]
     },
     "execution_count": 34,
     "metadata": {},
     "output_type": "execute_result"
    }
   ],
   "source": [
    "str1=\"python is\"\n",
    "str1.capitalize()"
   ]
  },
  {
   "cell_type": "code",
   "execution_count": 35,
   "id": "dade8a67-1341-4539-974f-b14b7c5fa49d",
   "metadata": {},
   "outputs": [
    {
     "data": {
      "text/plain": [
       "'PYTHON IS'"
      ]
     },
     "execution_count": 35,
     "metadata": {},
     "output_type": "execute_result"
    }
   ],
   "source": [
    "str1.upper()"
   ]
  },
  {
   "cell_type": "code",
   "execution_count": 36,
   "id": "d36e12d6-ef2f-48d6-851f-c63fe40f957b",
   "metadata": {},
   "outputs": [
    {
     "data": {
      "text/plain": [
       "'python is'"
      ]
     },
     "execution_count": 36,
     "metadata": {},
     "output_type": "execute_result"
    }
   ],
   "source": [
    "str1.lower()"
   ]
  },
  {
   "cell_type": "code",
   "execution_count": 37,
   "id": "90e85e2d-e129-4c29-b2e7-66ef1646934f",
   "metadata": {},
   "outputs": [
    {
     "data": {
      "text/plain": [
       "'python is'"
      ]
     },
     "execution_count": 37,
     "metadata": {},
     "output_type": "execute_result"
    }
   ],
   "source": [
    "str1.casefold()"
   ]
  },
  {
   "cell_type": "code",
   "execution_count": 38,
   "id": "ea01a624-25fb-4bea-a184-a7d00174a0b7",
   "metadata": {},
   "outputs": [
    {
     "data": {
      "text/plain": [
       "'Python Is'"
      ]
     },
     "execution_count": 38,
     "metadata": {},
     "output_type": "execute_result"
    }
   ],
   "source": [
    "str1.title()"
   ]
  },
  {
   "cell_type": "code",
   "execution_count": 41,
   "id": "5fd1ca12-59c7-4d7e-9438-24b80b2c441f",
   "metadata": {},
   "outputs": [
    {
     "data": {
      "text/plain": [
       "'python is$'"
      ]
     },
     "execution_count": 41,
     "metadata": {},
     "output_type": "execute_result"
    }
   ],
   "source": [
    "str1.center(10,\"$\")"
   ]
  },
  {
   "cell_type": "code",
   "execution_count": 42,
   "id": "ad5e51b6-94da-463b-97a9-ee6087b01eaf",
   "metadata": {},
   "outputs": [],
   "source": [
    "#Count"
   ]
  },
  {
   "cell_type": "code",
   "execution_count": 44,
   "id": "82b6f9ba-1b46-45d4-9a65-107c0b24506b",
   "metadata": {},
   "outputs": [
    {
     "data": {
      "text/plain": [
       "0"
      ]
     },
     "execution_count": 44,
     "metadata": {},
     "output_type": "execute_result"
    }
   ],
   "source": [
    "str1.count('a')"
   ]
  },
  {
   "cell_type": "code",
   "execution_count": 45,
   "id": "49c9753c-a205-4e76-b8dd-8af531eb6dfd",
   "metadata": {},
   "outputs": [
    {
     "data": {
      "text/plain": [
       "0"
      ]
     },
     "execution_count": 45,
     "metadata": {},
     "output_type": "execute_result"
    }
   ],
   "source": [
    "str1.count('p',2,5)"
   ]
  },
  {
   "cell_type": "code",
   "execution_count": 46,
   "id": "417fcc9d-c403-4abc-aa95-7ff63fdcc9dd",
   "metadata": {},
   "outputs": [
    {
     "data": {
      "text/plain": [
       "1"
      ]
     },
     "execution_count": 46,
     "metadata": {},
     "output_type": "execute_result"
    }
   ],
   "source": [
    "str1.count(str1)"
   ]
  },
  {
   "cell_type": "code",
   "execution_count": 48,
   "id": "8406169f-114c-4d86-96ba-f80dca93cddf",
   "metadata": {},
   "outputs": [
    {
     "name": "stdout",
     "output_type": "stream",
     "text": [
      "3\n"
     ]
    }
   ],
   "source": [
    "s=\"ola ola ola\"\n",
    "count=0\n",
    "for i in range(len(s)):\n",
    "    if(s[i:i+3]==\"ola\"):\n",
    "        count=count+1\n",
    "print(count)\n",
    "        "
   ]
  },
  {
   "cell_type": "code",
   "execution_count": null,
   "id": "216afc0b-551e-480d-95a1-c4de78a866dd",
   "metadata": {},
   "outputs": [],
   "source": []
  }
 ],
 "metadata": {
  "kernelspec": {
   "display_name": "Python 3 (ipykernel)",
   "language": "python",
   "name": "python3"
  },
  "language_info": {
   "codemirror_mode": {
    "name": "ipython",
    "version": 3
   },
   "file_extension": ".py",
   "mimetype": "text/x-python",
   "name": "python",
   "nbconvert_exporter": "python",
   "pygments_lexer": "ipython3",
   "version": "3.11.7"
  }
 },
 "nbformat": 4,
 "nbformat_minor": 5
}
