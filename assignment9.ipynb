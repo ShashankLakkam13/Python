{
 "cells": [
  {
   "cell_type": "markdown",
   "id": "f9988ded-55d1-4b23-9d3e-b3013f741404",
   "metadata": {},
   "source": [
    ". Write a  Python program to create a lambda function that adds 15 to a given number passed in as an argument, also create a lambda function that multiplies argument x with argument y and prints the result."
   ]
  },
  {
   "cell_type": "code",
   "execution_count": 1,
   "id": "ef538052-b3c3-43f1-9596-8fbf3ec5e782",
   "metadata": {},
   "outputs": [],
   "source": [
    "sum=lambda x:x+15"
   ]
  },
  {
   "cell_type": "code",
   "execution_count": 2,
   "id": "94a1eec8-dc11-42e5-9225-30f14160fc18",
   "metadata": {},
   "outputs": [
    {
     "data": {
      "text/plain": [
       "25"
      ]
     },
     "execution_count": 2,
     "metadata": {},
     "output_type": "execute_result"
    }
   ],
   "source": [
    "sum(10)"
   ]
  },
  {
   "cell_type": "code",
   "execution_count": 3,
   "id": "0dbe6221-0619-4e2e-9a4c-300a8d190619",
   "metadata": {},
   "outputs": [],
   "source": [
    "mul=lambda int x,int y:x*y\n"
   ]
  },
  {
   "cell_type": "code",
   "execution_count": 4,
   "id": "8a5a04d6-0324-4764-9566-4b4fa0e5a7c1",
   "metadata": {},
   "outputs": [
    {
     "data": {
      "text/plain": [
       "4"
      ]
     },
     "execution_count": 4,
     "metadata": {},
     "output_type": "execute_result"
    }
   ],
   "source": [
    "mul(1,4)"
   ]
  },
  {
   "cell_type": "code",
   "execution_count": 7,
   "id": "a5865426-2f64-426e-a710-e0ea314671a4",
   "metadata": {},
   "outputs": [
    {
     "data": {
      "text/plain": [
       "30"
      ]
     },
     "execution_count": 7,
     "metadata": {},
     "output_type": "execute_result"
    }
   ],
   "source": [
    "mul(5,6)"
   ]
  },
  {
   "cell_type": "markdown",
   "id": "3592dfcf-6f60-43dc-b186-b233d91d5e51",
   "metadata": {},
   "source": [
    "Write a Python program to sort a list of tuples using Lambda.\n",
    "Original list of tuples:\n",
    "[('English', 88), ('Science', 90), ('Maths', 97), ('Social sciences', 82)]"
   ]
  },
  {
   "cell_type": "code",
   "execution_count": 8,
   "id": "badf4a82-43a4-4f9a-8e9d-1f2b7b243dd9",
   "metadata": {},
   "outputs": [
    {
     "data": {
      "text/plain": [
       "('Science', 90)"
      ]
     },
     "execution_count": 8,
     "metadata": {},
     "output_type": "execute_result"
    }
   ],
   "source": [
    "t1=[('English', 88), ('Science', 90), ('Maths', 97), ('Social sciences', 82)]\n",
    "t1[1]"
   ]
  },
  {
   "cell_type": "code",
   "execution_count": 9,
   "id": "ace65243-93ea-46dd-8f73-2f3a910d56b4",
   "metadata": {},
   "outputs": [
    {
     "data": {
      "text/plain": [
       "90"
      ]
     },
     "execution_count": 9,
     "metadata": {},
     "output_type": "execute_result"
    }
   ],
   "source": [
    "t1[1][1]"
   ]
  },
  {
   "cell_type": "code",
   "execution_count": 15,
   "id": "5e5456fa-6a10-415e-8808-5dd0433b8081",
   "metadata": {},
   "outputs": [],
   "source": [
    "sort=lambda x:sorted(x)"
   ]
  },
  {
   "cell_type": "code",
   "execution_count": 16,
   "id": "74a5e610-a5f0-4cf4-ab80-11cbe796867f",
   "metadata": {},
   "outputs": [
    {
     "data": {
      "text/plain": [
       "[('English', 88), ('Maths', 97), ('Science', 90), ('Social sciences', 82)]"
      ]
     },
     "execution_count": 16,
     "metadata": {},
     "output_type": "execute_result"
    }
   ],
   "source": [
    "sort(t1)"
   ]
  },
  {
   "cell_type": "markdown",
   "id": "2ac5e347-2dfc-4ae5-935c-e213f1caf5b8",
   "metadata": {},
   "source": [
    "Write a  Python program to sort a list of dictionaries using Lambda.\n",
    "Original list of dictionaries :\n",
    "[{'make': 'Nokia', 'model': 216, 'color': 'Black'}, {'make': 'Mi Max', 'model': '2', 'color': 'Gold'}, {'make': 'Samsung', 'model': 7, 'color': 'Blue'}]\n"
   ]
  },
  {
   "cell_type": "code",
   "execution_count": 24,
   "id": "554eb907-79a8-4d72-a802-8513541069dc",
   "metadata": {},
   "outputs": [],
   "source": [
    "dict=[{'make': 'Nokia', 'model': 216, 'color': 'Black'}, {'make': 'Mi Max', 'model': '2', 'color': 'Gold'}, {'make': 'Samsung', 'model': 7, 'color': 'Blue'}]"
   ]
  },
  {
   "cell_type": "code",
   "execution_count": 33,
   "id": "86bb67eb-48c4-408f-b6d3-d4001317e4d5",
   "metadata": {},
   "outputs": [],
   "source": [
    "#Uses the 'sorted()' function with a lambda function as the sorting key to sort based on the 'color' value\n",
    "sorted=sorted(dict, key=lambda x: x['color'])"
   ]
  },
  {
   "cell_type": "code",
   "execution_count": 34,
   "id": "80f5ac97-2ee7-4dec-9ac5-d61e1ab70f85",
   "metadata": {},
   "outputs": [
    {
     "name": "stdout",
     "output_type": "stream",
     "text": [
      "[{'make': 'Nokia', 'model': 216, 'color': 'Black'}, {'make': 'Samsung', 'model': 7, 'color': 'Blue'}, {'make': 'Mi Max', 'model': '2', 'color': 'Gold'}]\n"
     ]
    }
   ],
   "source": [
    "print(sorted)"
   ]
  },
  {
   "cell_type": "markdown",
   "id": "e9e7bb9b-25a4-4ebd-adaa-f2cce48ce854",
   "metadata": {},
   "source": [
    "Write a  Python program to filter a list of integers using Lambda.\n",
    "Original list of integers:"
   ]
  },
  {
   "cell_type": "code",
   "execution_count": 56,
   "id": "c212c908-3104-4e98-808c-112ee8bb23e6",
   "metadata": {},
   "outputs": [
    {
     "ename": "TypeError",
     "evalue": "map() must have at least two arguments.",
     "output_type": "error",
     "traceback": [
      "\u001b[0;31m---------------------------------------------------------------------------\u001b[0m",
      "\u001b[0;31mTypeError\u001b[0m                                 Traceback (most recent call last)",
      "Cell \u001b[0;32mIn[56], line 4\u001b[0m\n\u001b[1;32m      2\u001b[0m odd\u001b[38;5;241m=\u001b[39m[]\n\u001b[1;32m      3\u001b[0m even\u001b[38;5;241m=\u001b[39m[]\n\u001b[0;32m----> 4\u001b[0m oddoreven\u001b[38;5;241m=\u001b[39m\u001b[38;5;28mlist\u001b[39m(\u001b[38;5;28mmap\u001b[39m(\u001b[38;5;28mfilter\u001b[39m(\u001b[38;5;28;01mlambda\u001b[39;00m x:even\u001b[38;5;241m.\u001b[39mappend(x) \u001b[38;5;28;01mif\u001b[39;00m x\u001b[38;5;241m%\u001b[39m\u001b[38;5;241m2\u001b[39m\u001b[38;5;241m==\u001b[39m\u001b[38;5;241m0\u001b[39m \u001b[38;5;28;01melse\u001b[39;00m odd\u001b[38;5;241m.\u001b[39mappend(x),l1)))\n\u001b[1;32m      5\u001b[0m oddoreven(l1)\n\u001b[1;32m      6\u001b[0m odd,even\n",
      "\u001b[0;31mTypeError\u001b[0m: map() must have at least two arguments."
     ]
    }
   ],
   "source": [
    "l1=[1,2,3,4,5,6,7,8]\n",
    "odd=[]\n",
    "even=[]\n",
    "oddoreven=list(map(filter(lambda x:even.append(x) if x%2==0 else odd.append(x),l1)))\n",
    "oddoreven(l1)\n",
    "odd,even"
   ]
  },
  {
   "cell_type": "code",
   "execution_count": 41,
   "id": "8aa29a30-0f93-4110-947d-18086eeca9e1",
   "metadata": {},
   "outputs": [
    {
     "data": {
      "text/plain": [
       "[2, 4, 6, 8]"
      ]
     },
     "execution_count": 41,
     "metadata": {},
     "output_type": "execute_result"
    }
   ],
   "source": [
    "l1=[1,2,3,4,5,6,7,8]\n",
    "list(filter(lambda x:x%2==0,l1))"
   ]
  },
  {
   "cell_type": "code",
   "execution_count": 50,
   "id": "7acd5ec7-3a50-497f-b5bb-94d778952677",
   "metadata": {},
   "outputs": [
    {
     "data": {
      "text/plain": [
       "[1, 3, 5, 7]"
      ]
     },
     "execution_count": 50,
     "metadata": {},
     "output_type": "execute_result"
    }
   ],
   "source": [
    "list(filter(lambda x:x%2!=0,l1))"
   ]
  },
  {
   "cell_type": "markdown",
   "id": "d54d0489-a488-4ab2-b8d9-9445e0572ede",
   "metadata": {},
   "source": [
    "Write a  Python program to square and cube every number in a given list of integers using Lambda.\n",
    "Original list of integers:\n",
    "[1, 2, 3, 4, 5, 6, 7, 8, 9, 10]"
   ]
  },
  {
   "cell_type": "code",
   "execution_count": null,
   "id": "07cde89c-0601-4db7-b394-ac1edfd550ba",
   "metadata": {},
   "outputs": [],
   "source": [
    "l2=[1, 2, 3, 4, 5, 6, 7, 8, 9, 10]"
   ]
  },
  {
   "cell_type": "code",
   "execution_count": 54,
   "id": "6390bfe7-1ae5-4e7c-9bfb-8d3922612ea7",
   "metadata": {},
   "outputs": [
    {
     "data": {
      "text/plain": [
       "[1, 8, 27, 64, 125, 216, 343, 512]"
      ]
     },
     "execution_count": 54,
     "metadata": {},
     "output_type": "execute_result"
    }
   ],
   "source": [
    "list(map(lambda x:x*x*x,l1))"
   ]
  },
  {
   "cell_type": "markdown",
   "id": "e403146a-cd82-4b19-badc-1d5593253474",
   "metadata": {},
   "source": [
    "Write a  Python program to find if a given string starts with a given character using Lambda."
   ]
  },
  {
   "cell_type": "code",
   "execution_count": 60,
   "id": "4e0a4789-6f2d-4724-b9e6-454ceebebbe1",
   "metadata": {},
   "outputs": [
    {
     "name": "stdin",
     "output_type": "stream",
     "text": [
      "enter a string: shashank\n",
      "enetr a character: a\n"
     ]
    },
    {
     "data": {
      "text/plain": [
       "<function __main__.<lambda>(character)>"
      ]
     },
     "execution_count": 60,
     "metadata": {},
     "output_type": "execute_result"
    }
   ],
   "source": [
    "#raise a question.\n",
    "string=input(\"enter a string:\")\n",
    "character=input(\"enetr a character:\")\n",
    "lambda character:\"present\" if character in f\"{string}\"  else \"not present\""
   ]
  },
  {
   "cell_type": "code",
   "execution_count": 63,
   "id": "cdb8bcc9-0264-4d4a-9fa3-615d519907a6",
   "metadata": {},
   "outputs": [],
   "source": [
    "starts_with = lambda x: True if x.startswith('P') else False"
   ]
  },
  {
   "cell_type": "code",
   "execution_count": 64,
   "id": "0e237a41-a13b-47b1-8804-7c5a715ac048",
   "metadata": {},
   "outputs": [
    {
     "data": {
      "text/plain": [
       "False"
      ]
     },
     "execution_count": 64,
     "metadata": {},
     "output_type": "execute_result"
    }
   ],
   "source": [
    "starts_with(\"parrot\")"
   ]
  },
  {
   "cell_type": "markdown",
   "id": "423183fa-f82c-4b0e-99ef-7e194e669aa7",
   "metadata": {},
   "source": [
    "Write a Python program to extract year, month, date and time using Lambda.\n",
    "\n",
    "#Write a  Python program to check whether a given string is a number or not using Lambda."
   ]
  },
  {
   "cell_type": "code",
   "execution_count": null,
   "id": "786895f9-c428-4101-9c0c-4e28e7d6c7da",
   "metadata": {},
   "outputs": [],
   "source": []
  }
 ],
 "metadata": {
  "kernelspec": {
   "display_name": "Python 3 (ipykernel)",
   "language": "python",
   "name": "python3"
  },
  "language_info": {
   "codemirror_mode": {
    "name": "ipython",
    "version": 3
   },
   "file_extension": ".py",
   "mimetype": "text/x-python",
   "name": "python",
   "nbconvert_exporter": "python",
   "pygments_lexer": "ipython3",
   "version": "3.11.7"
  }
 },
 "nbformat": 4,
 "nbformat_minor": 5
}
