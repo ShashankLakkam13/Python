{
 "cells": [
  {
   "cell_type": "code",
   "execution_count": 1,
   "id": "6ce05188-b62c-434b-a58e-7e0e7f93467d",
   "metadata": {},
   "outputs": [],
   "source": [
    "# converting datatype to another datatype"
   ]
  },
  {
   "cell_type": "code",
   "execution_count": 4,
   "id": "9910c02b-e459-447f-b7ab-a5fc46e0e395",
   "metadata": {},
   "outputs": [],
   "source": [
    "#int to float\n",
    "#int to string\n",
    "#int to boolean\n",
    "#float to int\n",
    "#float to string\n",
    "#float to boolean\n",
    "#string ti int\n",
    "#string to float\n",
    "#string to bool\n",
    "#bool to int\n",
    "#bool to float\n",
    "#bool to string"
   ]
  },
  {
   "cell_type": "code",
   "execution_count": 10,
   "id": "62cb60f0-0f3d-4203-a8f3-ea23a517a162",
   "metadata": {},
   "outputs": [],
   "source": [
    "#integer to float,string and boolean"
   ]
  },
  {
   "cell_type": "code",
   "execution_count": 7,
   "id": "fbd84493-b8ee-4f31-92df-bc1f8ea1e5d1",
   "metadata": {},
   "outputs": [
    {
     "name": "stdout",
     "output_type": "stream",
     "text": [
      "100\n",
      "100.0\n"
     ]
    },
    {
     "data": {
      "text/plain": [
       "float"
      ]
     },
     "execution_count": 7,
     "metadata": {},
     "output_type": "execute_result"
    }
   ],
   "source": [
    "name=100\n",
    "floatname=float(name)\n",
    "print(name)\n",
    "type(name)\n",
    "print(floatname)\n",
    "type(floatname)"
   ]
  },
  {
   "cell_type": "code",
   "execution_count": 8,
   "id": "01cc649f-f9af-45fb-a00c-0bccb588679a",
   "metadata": {},
   "outputs": [
    {
     "name": "stdout",
     "output_type": "stream",
     "text": [
      "float conversion is 200.0\n",
      "string conversion is 200\n",
      "bool conversion is  True\n"
     ]
    }
   ],
   "source": [
    "x=200\n",
    "print(\"float conversion is\",float(x))\n",
    "print(\"string conversion is\",str(x))\n",
    "print(\"bool conversion is \",bool(x))"
   ]
  },
  {
   "cell_type": "code",
   "execution_count": 9,
   "id": "7c8c1539-5641-41cb-b6f1-9e927c3d55ed",
   "metadata": {},
   "outputs": [
    {
     "data": {
      "text/plain": [
       "(0.0, '0', False)"
      ]
     },
     "execution_count": 9,
     "metadata": {},
     "output_type": "execute_result"
    }
   ],
   "source": [
    "num2=0\n",
    "float(num2),str(num2),bool(num2)"
   ]
  },
  {
   "cell_type": "code",
   "execution_count": 11,
   "id": "a05585ac-2cd3-402f-ae59-c6ba84916bea",
   "metadata": {},
   "outputs": [],
   "source": [
    "#for integr to convert to boolean we will get false for zero(0) only for all other values it will be true"
   ]
  },
  {
   "cell_type": "code",
   "execution_count": 12,
   "id": "47c20b52-4d43-443f-ab0c-14e6e368d2b0",
   "metadata": {},
   "outputs": [],
   "source": [
    "#float to other "
   ]
  },
  {
   "cell_type": "code",
   "execution_count": 13,
   "id": "9345035c-d7ac-4913-8a77-12af2080639e",
   "metadata": {},
   "outputs": [
    {
     "data": {
      "text/plain": [
       "float"
      ]
     },
     "execution_count": 13,
     "metadata": {},
     "output_type": "execute_result"
    }
   ],
   "source": [
    "y=1000.1\n",
    "type(y)"
   ]
  },
  {
   "cell_type": "code",
   "execution_count": 14,
   "id": "b5bec725-62da-4331-ade1-9167e1512d35",
   "metadata": {},
   "outputs": [
    {
     "name": "stdout",
     "output_type": "stream",
     "text": [
      "intger conversion 1000\n",
      "string conversion 1000.1\n",
      "boolean conversion True\n"
     ]
    }
   ],
   "source": [
    "print(\"intger conversion\",int(y))\n",
    "print(\"string conversion\",str(y))\n",
    "print(\"boolean conversion\",bool(y))"
   ]
  },
  {
   "cell_type": "code",
   "execution_count": 15,
   "id": "99b43951-77ef-4094-a9e5-aed01c68c5ea",
   "metadata": {},
   "outputs": [
    {
     "data": {
      "text/plain": [
       "(0, '0.5', True)"
      ]
     },
     "execution_count": 15,
     "metadata": {},
     "output_type": "execute_result"
    }
   ],
   "source": [
    "z=0.5\n",
    "int(z),str(z),bool(z)"
   ]
  },
  {
   "cell_type": "code",
   "execution_count": 16,
   "id": "82e5a547-ac87-41c4-9639-2e2f598d0b88",
   "metadata": {},
   "outputs": [],
   "source": [
    "#string to other datatypes"
   ]
  },
  {
   "cell_type": "code",
   "execution_count": 17,
   "id": "7381fccd-31df-4f51-af69-ed32fd2aae6b",
   "metadata": {},
   "outputs": [
    {
     "ename": "ValueError",
     "evalue": "invalid literal for int() with base 10: 'python'",
     "output_type": "error",
     "traceback": [
      "\u001b[0;31m---------------------------------------------------------------------------\u001b[0m",
      "\u001b[0;31mValueError\u001b[0m                                Traceback (most recent call last)",
      "Cell \u001b[0;32mIn[17], line 2\u001b[0m\n\u001b[1;32m      1\u001b[0m \u001b[38;5;28mstr\u001b[39m\u001b[38;5;241m=\u001b[39m\u001b[38;5;124m\"\u001b[39m\u001b[38;5;124mpython\u001b[39m\u001b[38;5;124m\"\u001b[39m\n\u001b[0;32m----> 2\u001b[0m \u001b[38;5;28mint\u001b[39m(\u001b[38;5;28mstr\u001b[39m)\n",
      "\u001b[0;31mValueError\u001b[0m: invalid literal for int() with base 10: 'python'"
     ]
    }
   ],
   "source": [
    "str=\"python\"\n",
    "int(str)"
   ]
  },
  {
   "cell_type": "code",
   "execution_count": 18,
   "id": "220a7bee-388d-42d1-be7c-afe7da31fa69",
   "metadata": {},
   "outputs": [
    {
     "ename": "ValueError",
     "evalue": "could not convert string to float: 'python'",
     "output_type": "error",
     "traceback": [
      "\u001b[0;31m---------------------------------------------------------------------------\u001b[0m",
      "\u001b[0;31mValueError\u001b[0m                                Traceback (most recent call last)",
      "Cell \u001b[0;32mIn[18], line 1\u001b[0m\n\u001b[0;32m----> 1\u001b[0m \u001b[38;5;28mfloat\u001b[39m(\u001b[38;5;28mstr\u001b[39m)\n",
      "\u001b[0;31mValueError\u001b[0m: could not convert string to float: 'python'"
     ]
    }
   ],
   "source": [
    "float(str)"
   ]
  },
  {
   "cell_type": "code",
   "execution_count": 19,
   "id": "17090538-0bd8-4175-bec0-4ee1349d05bb",
   "metadata": {},
   "outputs": [
    {
     "data": {
      "text/plain": [
       "True"
      ]
     },
     "execution_count": 19,
     "metadata": {},
     "output_type": "execute_result"
    }
   ],
   "source": [
    "bool(str)"
   ]
  },
  {
   "cell_type": "code",
   "execution_count": 22,
   "id": "ba10f7e8-14d8-4549-82fb-f9aa04099e99",
   "metadata": {},
   "outputs": [
    {
     "data": {
      "text/plain": [
       "False"
      ]
     },
     "execution_count": 22,
     "metadata": {},
     "output_type": "execute_result"
    }
   ],
   "source": [
    "str1=\"\"\n",
    "bool(str1)"
   ]
  },
  {
   "cell_type": "code",
   "execution_count": 27,
   "id": "31230e18-616c-4d37-ba6e-88426416017c",
   "metadata": {},
   "outputs": [],
   "source": [
    "#case2 very Important the data in the string is number but in string form"
   ]
  },
  {
   "cell_type": "code",
   "execution_count": 24,
   "id": "15f02bd7-c0fa-47bd-b5d0-5f11d424108d",
   "metadata": {},
   "outputs": [
    {
     "data": {
      "text/plain": [
       "10"
      ]
     },
     "execution_count": 24,
     "metadata": {},
     "output_type": "execute_result"
    }
   ],
   "source": [
    "str2=\"10\"\n",
    "int(str2)"
   ]
  },
  {
   "cell_type": "code",
   "execution_count": 25,
   "id": "89de4579-b71b-4e04-933b-fb1d52593c46",
   "metadata": {},
   "outputs": [
    {
     "data": {
      "text/plain": [
       "10.0"
      ]
     },
     "execution_count": 25,
     "metadata": {},
     "output_type": "execute_result"
    }
   ],
   "source": [
    "float(str2)"
   ]
  },
  {
   "cell_type": "code",
   "execution_count": 26,
   "id": "1c9901ed-f193-4a9e-9c90-26aa2b067896",
   "metadata": {},
   "outputs": [
    {
     "data": {
      "text/plain": [
       "True"
      ]
     },
     "execution_count": 26,
     "metadata": {},
     "output_type": "execute_result"
    }
   ],
   "source": [
    "bool(str2)"
   ]
  },
  {
   "cell_type": "code",
   "execution_count": 28,
   "id": "7e34aca5-8e32-4ff1-819a-a10d6e697b96",
   "metadata": {},
   "outputs": [],
   "source": [
    "# case3 for float value in string"
   ]
  },
  {
   "cell_type": "code",
   "execution_count": 34,
   "id": "855304cb-22da-4626-a6db-f68de7132595",
   "metadata": {},
   "outputs": [
    {
     "data": {
      "text/plain": [
       "(10.4, True)"
      ]
     },
     "execution_count": 34,
     "metadata": {},
     "output_type": "execute_result"
    }
   ],
   "source": [
    "e=\"10.4\"\n",
    "float(e),bool(e)"
   ]
  },
  {
   "cell_type": "code",
   "execution_count": 30,
   "id": "32299a0e-142f-4da0-b4a5-ba1393757977",
   "metadata": {},
   "outputs": [
    {
     "ename": "ValueError",
     "evalue": "invalid literal for int() with base 10: '10.4'",
     "output_type": "error",
     "traceback": [
      "\u001b[0;31m---------------------------------------------------------------------------\u001b[0m",
      "\u001b[0;31mValueError\u001b[0m                                Traceback (most recent call last)",
      "Cell \u001b[0;32mIn[30], line 1\u001b[0m\n\u001b[0;32m----> 1\u001b[0m \u001b[38;5;28mint\u001b[39m(e)\n",
      "\u001b[0;31mValueError\u001b[0m: invalid literal for int() with base 10: '10.4'"
     ]
    }
   ],
   "source": [
    "int(e) #for this the result will be error"
   ]
  },
  {
   "cell_type": "code",
   "execution_count": 32,
   "id": "50d35593-6e46-4903-8fdd-c6bed6f54d56",
   "metadata": {},
   "outputs": [
    {
     "data": {
      "text/plain": [
       "10.4"
      ]
     },
     "execution_count": 32,
     "metadata": {},
     "output_type": "execute_result"
    }
   ],
   "source": [
    "float(e)"
   ]
  },
  {
   "cell_type": "code",
   "execution_count": 35,
   "id": "2cf2bf34-77c4-49fc-b4e0-9c231d6353d5",
   "metadata": {},
   "outputs": [],
   "source": [
    "## note point\n",
    "#float representation of string works only for float conversion"
   ]
  },
  {
   "cell_type": "code",
   "execution_count": 36,
   "id": "c4349995-5358-4cfe-afe4-db488bcec2c0",
   "metadata": {},
   "outputs": [],
   "source": [
    "#boolean to other datatypes"
   ]
  },
  {
   "cell_type": "code",
   "execution_count": 45,
   "id": "2b1c7470-62ec-468e-a3e3-371277538bb2",
   "metadata": {},
   "outputs": [
    {
     "data": {
      "text/plain": [
       "(1, 1.0)"
      ]
     },
     "execution_count": 45,
     "metadata": {},
     "output_type": "execute_result"
    }
   ],
   "source": [
    "bool1=True\n",
    "int(bool1),float(bool1)"
   ]
  },
  {
   "cell_type": "code",
   "execution_count": 38,
   "id": "7816c719-8f66-4fab-8fce-2d58668ec69f",
   "metadata": {},
   "outputs": [
    {
     "data": {
      "text/plain": [
       "1"
      ]
     },
     "execution_count": 38,
     "metadata": {},
     "output_type": "execute_result"
    }
   ],
   "source": [
    "int(bool1)"
   ]
  },
  {
   "cell_type": "code",
   "execution_count": 39,
   "id": "e3c989f6-4206-4db1-be1b-2478e43561bb",
   "metadata": {},
   "outputs": [
    {
     "data": {
      "text/plain": [
       "1.0"
      ]
     },
     "execution_count": 39,
     "metadata": {},
     "output_type": "execute_result"
    }
   ],
   "source": [
    "float(bool1)"
   ]
  },
  {
   "cell_type": "code",
   "execution_count": 40,
   "id": "c2d85960-a386-4280-afdd-4b9089c2c3c2",
   "metadata": {},
   "outputs": [
    {
     "ename": "TypeError",
     "evalue": "'str' object is not callable",
     "output_type": "error",
     "traceback": [
      "\u001b[0;31m---------------------------------------------------------------------------\u001b[0m",
      "\u001b[0;31mTypeError\u001b[0m                                 Traceback (most recent call last)",
      "Cell \u001b[0;32mIn[40], line 1\u001b[0m\n\u001b[0;32m----> 1\u001b[0m \u001b[38;5;28mstr\u001b[39m(bool1)\n",
      "\u001b[0;31mTypeError\u001b[0m: 'str' object is not callable"
     ]
    }
   ],
   "source": [
    "str(bool1)"
   ]
  },
  {
   "cell_type": "code",
   "execution_count": 46,
   "id": "11b62774-2060-476d-8da4-c0cdf260fc4c",
   "metadata": {},
   "outputs": [],
   "source": [
    "bool2=False"
   ]
  },
  {
   "cell_type": "code",
   "execution_count": 47,
   "id": "54b7a61d-0074-4094-8c28-f27074326e87",
   "metadata": {},
   "outputs": [
    {
     "data": {
      "text/plain": [
       "0"
      ]
     },
     "execution_count": 47,
     "metadata": {},
     "output_type": "execute_result"
    }
   ],
   "source": [
    "int(bool2)"
   ]
  },
  {
   "cell_type": "code",
   "execution_count": 48,
   "id": "4839175a-98cf-41de-a06a-e94cb37f77ac",
   "metadata": {},
   "outputs": [
    {
     "data": {
      "text/plain": [
       "0.0"
      ]
     },
     "execution_count": 48,
     "metadata": {},
     "output_type": "execute_result"
    }
   ],
   "source": [
    "float(bool2)"
   ]
  },
  {
   "cell_type": "code",
   "execution_count": 49,
   "id": "8af888eb-90b7-4ef4-9df8-93b673a81549",
   "metadata": {},
   "outputs": [
    {
     "ename": "TypeError",
     "evalue": "'str' object is not callable",
     "output_type": "error",
     "traceback": [
      "\u001b[0;31m---------------------------------------------------------------------------\u001b[0m",
      "\u001b[0;31mTypeError\u001b[0m                                 Traceback (most recent call last)",
      "Cell \u001b[0;32mIn[49], line 1\u001b[0m\n\u001b[0;32m----> 1\u001b[0m \u001b[38;5;28mstr\u001b[39m(bool2)\n",
      "\u001b[0;31mTypeError\u001b[0m: 'str' object is not callable"
     ]
    }
   ],
   "source": [
    "str(bool2)"
   ]
  },
  {
   "cell_type": "code",
   "execution_count": null,
   "id": "a7a60bd9-547c-4e23-bbaf-b1b941c9bdf1",
   "metadata": {},
   "outputs": [],
   "source": []
  }
 ],
 "metadata": {
  "kernelspec": {
   "display_name": "Python 3 (ipykernel)",
   "language": "python",
   "name": "python3"
  },
  "language_info": {
   "codemirror_mode": {
    "name": "ipython",
    "version": 3
   },
   "file_extension": ".py",
   "mimetype": "text/x-python",
   "name": "python",
   "nbconvert_exporter": "python",
   "pygments_lexer": "ipython3",
   "version": "3.11.7"
  }
 },
 "nbformat": 4,
 "nbformat_minor": 5
}
